{
 "cells": [
  {
   "cell_type": "code",
   "execution_count": 1,
   "metadata": {},
   "outputs": [
    {
     "name": "stdout",
     "output_type": "stream",
     "text": [
      "x is bigger than 5\n"
     ]
    }
   ],
   "source": [
    "x =10\n",
    "if x > 5:\n",
    "    print('x is bigger than 5')\n",
    "    "
   ]
  },
  {
   "cell_type": "code",
   "execution_count": 4,
   "metadata": {},
   "outputs": [
    {
     "name": "stdout",
     "output_type": "stream",
     "text": [
      "Answer will be negative\n",
      "-3\n",
      "Done\n"
     ]
    }
   ],
   "source": [
    "x = 10\n",
    "y = 13\n",
    "if x < y:\n",
    "    print('Answer will be negative')\n",
    "    print(x-y)\n",
    "print('Done')"
   ]
  },
  {
   "cell_type": "code",
   "execution_count": 5,
   "metadata": {},
   "outputs": [
    {
     "name": "stdout",
     "output_type": "stream",
     "text": [
      "Done\n"
     ]
    }
   ],
   "source": [
    "x = 44\n",
    "y = 13\n",
    "if x < y:\n",
    "    print('Answer will be negative')\n",
    "    print(x-y)\n",
    "print('Done')"
   ]
  },
  {
   "cell_type": "code",
   "execution_count": 7,
   "metadata": {},
   "outputs": [
    {
     "name": "stdout",
     "output_type": "stream",
     "text": [
      "x is an even number\n"
     ]
    }
   ],
   "source": [
    "x = 20\n",
    "if x % 2 ==0:\n",
    "    print('x is an even number')\n",
    "else:\n",
    "    print('x is an odd number')\n",
    " "
   ]
  },
  {
   "cell_type": "code",
   "execution_count": 8,
   "metadata": {},
   "outputs": [
    {
     "name": "stdout",
     "output_type": "stream",
     "text": [
      "x is an odd number\n"
     ]
    }
   ],
   "source": [
    "x = 21\n",
    "if x % 2 ==0:\n",
    "    print('x is an even number')\n",
    "else:\n",
    "    print('x is an odd number')\n",
    " "
   ]
  },
  {
   "cell_type": "code",
   "execution_count": 18,
   "metadata": {},
   "outputs": [
    {
     "name": "stdout",
     "output_type": "stream",
     "text": [
      "Simple intrest is 18000.0 with Intrest Rate=3%\n"
     ]
    }
   ],
   "source": [
    "# if loan_amount > 50000 then rate = 3, else rate = 4\n",
    "p = int(input('Enter loan amount'))\n",
    "if p > 50000:\n",
    "    r = 3\n",
    "else:\n",
    "    r = 4\n",
    "t = int(input('enter lone tenure:'))\n",
    "si = p * r * t / 100\n",
    "print(f'Simple intrest is {si} with Intrest Rate={r}%')"
   ]
  },
  {
   "cell_type": "code",
   "execution_count": 19,
   "metadata": {},
   "outputs": [
    {
     "name": "stdout",
     "output_type": "stream",
     "text": [
      "Simple intrest is 16000.0 with Intrest Rate=4%\n"
     ]
    }
   ],
   "source": [
    "# if loan_amount > 50000 then rate = 3, else rate = 4\n",
    "p = int(input('Enter loan amount'))\n",
    "if p > 50000:\n",
    "    r = 3\n",
    "else:\n",
    "    r = 4\n",
    "t = int(input('enter lone tenure:'))\n",
    "si = p * r * t / 100\n",
    "print(f'Simple intrest is {si} with Intrest Rate={r}%')"
   ]
  },
  {
   "cell_type": "code",
   "execution_count": 21,
   "metadata": {},
   "outputs": [
    {
     "name": "stdout",
     "output_type": "stream",
     "text": [
      "10\n",
      "5\n"
     ]
    }
   ],
   "source": [
    "# puting if else in single license\n",
    "\n",
    "x = 10\n",
    "if x > 10:\n",
    "    y = 20\n",
    "else:\n",
    "    x < 10\n",
    "    y = 5\n",
    "print(x)\n",
    "print(y)"
   ]
  },
  {
   "cell_type": "code",
   "execution_count": 24,
   "metadata": {},
   "outputs": [
    {
     "name": "stdout",
     "output_type": "stream",
     "text": [
      "11 20\n"
     ]
    }
   ],
   "source": [
    "x = 11\n",
    "y=20 if x > 10 else 5\n",
    "print(x,y)\n"
   ]
  },
  {
   "cell_type": "code",
   "execution_count": 3,
   "metadata": {},
   "outputs": [
    {
     "name": "stdout",
     "output_type": "stream",
     "text": [
      "You got more than 50% marks\n"
     ]
    }
   ],
   "source": [
    "grade = 'C'\n",
    "if grade == 'o':\n",
    "    print(\"You got more than 90% marks\")\n",
    "elif grade == 'A':\n",
    "    print(\"You got more than 75% marks\")\n",
    "elif grade == 'B':\n",
    "    print(\"You got more than 60% marks\")\n",
    "elif grade == 'C':\n",
    "    print(\"You got more than 50% marks\")\n",
    "elif grade == 'F':\n",
    "    print(\"You failed\")"
   ]
  },
  {
   "cell_type": "code",
   "execution_count": 4,
   "metadata": {},
   "outputs": [
    {
     "name": "stdout",
     "output_type": "stream",
     "text": [
      "You got more than 60% marks\n"
     ]
    }
   ],
   "source": [
    "grade = 'B'\n",
    "if grade == 'O':\n",
    "    print(\"You got more than 90% marks\")\n",
    "elif grade == 'A':\n",
    "    print(\"You got more than 75% marks\")\n",
    "elif grade == 'B':\n",
    "    print(\"You got more than 60% marks\")\n",
    "elif grade == 'C':\n",
    "    print(\"You got more than 50% marks\")\n",
    "elif grade == 'F':\n",
    "    print(\"You failed\")"
   ]
  },
  {
   "cell_type": "code",
   "execution_count": 6,
   "metadata": {},
   "outputs": [
    {
     "name": "stdout",
     "output_type": "stream",
     "text": [
      "You got more than 90% marks\n"
     ]
    }
   ],
   "source": [
    "grade = 'O'\n",
    "if grade == 'O':\n",
    "    print(\"You got more than 90% marks\")\n",
    "elif grade == 'A':\n",
    "    print(\"You got more than 75% marks\")\n",
    "elif grade == 'B':\n",
    "    print(\"You got more than 60% marks\")\n",
    "elif grade == 'C':\n",
    "    print(\"You got more than 50% marks\")\n",
    "elif grade == 'F':\n",
    "    print(\"You failed\")"
   ]
  },
  {
   "cell_type": "markdown",
   "metadata": {},
   "source": [
    "Calculate the total salary of an employee based on the following rules:\n",
    "\n",
    "1. Conditions 1: basic salary > 100000\n",
    " * bonus = 20% of basic salary \n",
    " * hra = 15% of basic salary\n",
    " * da = 10% of basic salary\n",
    "2. Conditions 2: basic salary > 75000 and less than 100000\n",
    " * bonus = 10% of basic salary \n",
    " * hra = 8% of basic salary\n",
    " * da = 5% of basic salary\n",
    "3. Conditions 3: basic salary > 50000 and less than 75000\n",
    " * bonus = 5% of basic salary \n",
    " * hra = 3% of basic salary\n",
    " * da = 2% of basic salary\n",
    "4. Conditions 4: basic salary > 50000\n",
    " * bonus = 10% of basic salary \n",
    " * hra = 5% of basic salary\n",
    " * da = 3% of basic salary"
   ]
  },
  {
   "cell_type": "code",
   "execution_count": 14,
   "metadata": {},
   "outputs": [
    {
     "name": "stdout",
     "output_type": "stream",
     "text": [
      " 55000+0.03+0.02+0.05 +> 55000.1\n"
     ]
    }
   ],
   "source": [
    "bs = 55000\n",
    "if bs > 100000:\n",
    "    bonus = .2*bs\n",
    "    hra = .15*bs\n",
    "    da = .1*bs\n",
    "elif bs > 75000:\n",
    "    bonus =.1\n",
    "    hra = .08\n",
    "    da = .05\n",
    "elif bs > 50000:\n",
    "    bonus = .05\n",
    "    hra = .03\n",
    "    da = .02\n",
    "elif bs < 50000:\n",
    "    bonus = .1\n",
    "    hra = .05\n",
    "    da = 0.3\n",
    "\n",
    "Ts = bonus + bs + hra + da\n",
    "print(f' {bs}+{hra}+{da}+{bonus} +> {Ts}')"
   ]
  },
  {
   "cell_type": "code",
   "execution_count": 16,
   "metadata": {},
   "outputs": [
    {
     "name": "stdout",
     "output_type": "stream",
     "text": [
      " 155000+0.03+0.02+0.05 +> 155000.09999999998\n"
     ]
    }
   ],
   "source": [
    "bs = 155000\n",
    "if bs > 100000:\n",
    "    bonus = .2*bs\n",
    "    hra = .15*bs\n",
    "    da = .1*bs\n",
    "if bs > 75000:\n",
    "    bonus =.1\n",
    "    hra = .08\n",
    "    da = .05\n",
    "if bs > 50000:\n",
    "    bonus = .05\n",
    "    hra = .03\n",
    "    da = .02\n",
    "if bs < 50000:\n",
    "    bonus = .1\n",
    "    hra = .05\n",
    "    da = 0.3\n",
    "\n",
    "Ts = bonus + bs + hra + da\n",
    "print(f' {bs}+{hra}+{da}+{bonus} +> {Ts}')"
   ]
  },
  {
   "cell_type": "markdown",
   "metadata": {},
   "source": [
    "Match case in Python\n",
    "\n",
    " * used tomatch the values of a variablewith a pattern\n",
    " * if the pattern matches, the corresponding block of code is executed\n",
    "\n",
    " match variable:\n",
    "  case  pattern1\n",
    "  block of code \n",
    "  case pattern2 :\n",
    "  block of code"
   ]
  },
  {
   "cell_type": "code",
   "execution_count": 20,
   "metadata": {},
   "outputs": [
    {
     "name": "stdout",
     "output_type": "stream",
     "text": [
      "Pizza cost Rs.400\n",
      "Not vailable\n"
     ]
    }
   ],
   "source": [
    "choice = input('What would you like to have?')\n",
    "match choice:\n",
    "    case \"burger\" \"Burger\":\n",
    "        print(\"Mcdonalds burgers cost Rs. 100\")\n",
    "        print(\"This is not an option\")\n",
    "    case \"chhole bhature\" \"ghar ka khana\" \"mai nhi khata\":\n",
    "        print(\"chhole bhature cost Rs. 50\")\n",
    "        print(\"its a valid option\")\n",
    "    case \"sandwich\":\n",
    "        print(\"sandwich cost Rs. 200\")\n",
    "        print(\"not available\")\n",
    "    case \"Pizza\":\n",
    "        print(\"Pizza cost Rs.400\")\n",
    "        print(\"Not vailable\")\n",
    "    case _:\n",
    "        print(\"Invalid Choice\")"
   ]
  },
  {
   "cell_type": "code",
   "execution_count": 24,
   "metadata": {},
   "outputs": [
    {
     "name": "stdout",
     "output_type": "stream",
     "text": [
      "Invalid Choice\n"
     ]
    }
   ],
   "source": [
    "choice = input('What would you like to have?')\n",
    "match choice:\n",
    "    case \"burger\" \"Burger\":\n",
    "        print(\"Mcdonalds burgers cost Rs. 100\")\n",
    "        print(\"This is not an option\")\n",
    "    case \"chhole bhature\" \"ghar ka khana\" \"mai nhi khata\":\n",
    "        print(\"chhole bhature cost Rs. 50\")\n",
    "        print(\"its a valid option\")\n",
    "    case \"sandwich\":\n",
    "        print(\"sandwich cost Rs. 200\")\n",
    "        print(\"not available\")\n",
    "    case \"Pizza\":\n",
    "        print(\"Pizza cost Rs.400\")\n",
    "        print(\"Not vailable\")\n",
    "    case _:\n",
    "        print(\"Invalid Choice\")"
   ]
  },
  {
   "cell_type": "code",
   "execution_count": null,
   "metadata": {},
   "outputs": [],
   "source": []
  }
 ],
 "metadata": {
  "kernelspec": {
   "display_name": "base",
   "language": "python",
   "name": "python3"
  },
  "language_info": {
   "codemirror_mode": {
    "name": "ipython",
    "version": 3
   },
   "file_extension": ".py",
   "mimetype": "text/x-python",
   "name": "python",
   "nbconvert_exporter": "python",
   "pygments_lexer": "ipython3",
   "version": "3.11.5"
  }
 },
 "nbformat": 4,
 "nbformat_minor": 2
}
