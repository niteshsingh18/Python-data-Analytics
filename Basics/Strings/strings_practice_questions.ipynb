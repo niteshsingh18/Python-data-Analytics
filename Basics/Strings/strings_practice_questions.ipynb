{
 "cells": [
  {
   "cell_type": "code",
   "execution_count": 1,
   "metadata": {},
   "outputs": [
    {
     "name": "stdout",
     "output_type": "stream",
     "text": [
      "Robinson\n"
     ]
    }
   ],
   "source": [
    "name = 'Robinson'\n",
    "print(name)"
   ]
  },
  {
   "cell_type": "code",
   "execution_count": 2,
   "metadata": {},
   "outputs": [
    {
     "name": "stdout",
     "output_type": "stream",
     "text": [
      "8\n"
     ]
    }
   ],
   "source": [
    "print(len(name))"
   ]
  },
  {
   "cell_type": "code",
   "execution_count": 6,
   "metadata": {},
   "outputs": [
    {
     "name": "stdout",
     "output_type": "stream",
     "text": [
      "great\n"
     ]
    }
   ],
   "source": [
    "x = 'Python is great'\n",
    "print(x[-5:])\n"
   ]
  },
  {
   "cell_type": "code",
   "execution_count": 10,
   "metadata": {},
   "outputs": [
    {
     "name": "stdout",
     "output_type": "stream",
     "text": [
      "Python\n",
      "is\n",
      "everywhere\n"
     ]
    }
   ],
   "source": [
    "i = \"Python is everywhere\"\n",
    "print(i[:6])\n",
    "print(i[7:9])\n",
    "print(i[-10:])"
   ]
  },
  {
   "cell_type": "code",
   "execution_count": 12,
   "metadata": {},
   "outputs": [
    {
     "name": "stdout",
     "output_type": "stream",
     "text": [
      "dlroW olleH\n"
     ]
    }
   ],
   "source": [
    "a = \"Hello World\"\n",
    "print(a[::-1])\n"
   ]
  },
  {
   "cell_type": "code",
   "execution_count": 13,
   "metadata": {},
   "outputs": [
    {
     "data": {
      "text/plain": [
       "'HOW ARE YOU'"
      ]
     },
     "execution_count": 13,
     "metadata": {},
     "output_type": "execute_result"
    }
   ],
   "source": [
    "o = \"How are you\"\n",
    "o.upper()"
   ]
  },
  {
   "cell_type": "code",
   "execution_count": 14,
   "metadata": {},
   "outputs": [
    {
     "data": {
      "text/plain": [
       "'how is it going'"
      ]
     },
     "execution_count": 14,
     "metadata": {},
     "output_type": "execute_result"
    }
   ],
   "source": [
    "y = \"How is it going\"\n",
    "y.lower()"
   ]
  },
  {
   "cell_type": "code",
   "execution_count": 17,
   "metadata": {},
   "outputs": [
    {
     "name": "stdout",
     "output_type": "stream",
     "text": [
      "Python is easy to learn.\n"
     ]
    }
   ],
   "source": [
    "x = ['Python', 'is', 'easy', 'to', 'learn.']\n",
    "print(' '.join(x))"
   ]
  },
  {
   "cell_type": "code",
   "execution_count": 1,
   "metadata": {},
   "outputs": [],
   "source": []
  },
  {
   "cell_type": "code",
   "execution_count": 4,
   "metadata": {},
   "outputs": [
    {
     "name": "stdout",
     "output_type": "stream",
     "text": [
      "I am doing this to print a multiline string by using a single point. \n",
      "I hope this will work and I'll get the result actually it's way too confusing and \n",
      "quite difficult for me\n"
     ]
    }
   ],
   "source": [
    "x = '''I am doing this to print a multiline string by using a single point. \n",
    "I hope this will work and I'll get the result actually it's way too confusing and \n",
    "quite difficult for me'''\n",
    "\n",
    "print(x)"
   ]
  },
  {
   "cell_type": "code",
   "execution_count": 4,
   "metadata": {},
   "outputs": [
    {
     "name": "stdout",
     "output_type": "stream",
     "text": [
      "I am doing this to print a multiline strin\n",
      "by using a single point. I hope this will\n",
      "work and I'll get the result.\n"
     ]
    }
   ],
   "source": [
    "x = \"I am doing this to print a multiline strin\\nby using a single point. I hope this will\\nwork and I'll get the result.\"\n",
    "\n",
    "print(x)\n"
   ]
  },
  {
   "cell_type": "code",
   "execution_count": 3,
   "metadata": {},
   "outputs": [
    {
     "name": "stdout",
     "output_type": "stream",
     "text": [
      "This is a\n",
      "multiline\n",
      "string\n",
      "printed\n",
      "using\n",
      "a single\n",
      "print statement.\n"
     ]
    }
   ],
   "source": []
  },
  {
   "cell_type": "code",
   "execution_count": 7,
   "metadata": {},
   "outputs": [
    {
     "name": "stdout",
     "output_type": "stream",
     "text": [
      "The variable is 15\n"
     ]
    }
   ],
   "source": [
    "variable_value = 15\n",
    "\n",
    "print(f\"The variable is {variable_value}\")"
   ]
  },
  {
   "cell_type": "code",
   "execution_count": 10,
   "metadata": {},
   "outputs": [
    {
     "name": "stdout",
     "output_type": "stream",
     "text": [
      "Python is great.\n"
     ]
    }
   ],
   "source": [
    "s1 = 'Python '\n",
    "s2 = 'is '\n",
    "s3 = 'great.'\n",
    "\n",
    "result = s1 + s2 + s3\n",
    "print(result)"
   ]
  },
  {
   "cell_type": "code",
   "execution_count": 16,
   "metadata": {},
   "outputs": [
    {
     "name": "stdout",
     "output_type": "stream",
     "text": [
      "####################\n"
     ]
    }
   ],
   "source": [
    "print('#'*20)"
   ]
  },
  {
   "cell_type": "code",
   "execution_count": 19,
   "metadata": {},
   "outputs": [
    {
     "name": "stdout",
     "output_type": "stream",
     "text": [
      "1.\n",
      "2.\n",
      "3.\n",
      "4.\n",
      "5.\n",
      "6.\n",
      "7.\n",
      "8.\n",
      "9.\n",
      "10.\n"
     ]
    }
   ],
   "source": [
    "for i in range(1, 11, 1):\n",
    "    print(f\"{i}.\")\n"
   ]
  },
  {
   "cell_type": "code",
   "execution_count": 21,
   "metadata": {},
   "outputs": [
    {
     "name": "stdout",
     "output_type": "stream",
     "text": [
      "I\n",
      "am\n",
      "the\n",
      "showstopper.\n"
     ]
    }
   ],
   "source": [
    "x = input(\"enter the input\")\n",
    "y = x.split()\n",
    "\n",
    "for word in y:\n",
    "    print(word)\n",
    "\n"
   ]
  },
  {
   "cell_type": "code",
   "execution_count": 23,
   "metadata": {},
   "outputs": [
    {
     "name": "stdout",
     "output_type": "stream",
     "text": [
      "Given output ends with question mark\n"
     ]
    }
   ],
   "source": [
    "x = input(\"input the string\")\n",
    "\n",
    "if x.endswith('?'):\n",
    "    print(\"Given output ends with question mark\")\n",
    "else:\n",
    "    print(\"Given output didn't ends with question mark\")"
   ]
  },
  {
   "cell_type": "code",
   "execution_count": 25,
   "metadata": {},
   "outputs": [
    {
     "name": "stdout",
     "output_type": "stream",
     "text": [
      "2\n"
     ]
    }
   ],
   "source": [
    "x = input(\"input the string\")\n",
    "    \n",
    "print(x.count('i'))"
   ]
  },
  {
   "cell_type": "code",
   "execution_count": 31,
   "metadata": {},
   "outputs": [
    {
     "name": "stdout",
     "output_type": "stream",
     "text": [
      "Input is a number\n"
     ]
    }
   ],
   "source": [
    "x = input(\"input the string\")\n",
    "\n",
    "if x.isdigit():\n",
    "    print(\"Input is a number\")\n",
    "else:\n",
    "    print(\"Input is not a number\")"
   ]
  },
  {
   "cell_type": "code",
   "execution_count": 41,
   "metadata": {},
   "outputs": [
    {
     "data": {
      "text/plain": [
       "'This is not a good string'"
      ]
     },
     "execution_count": 41,
     "metadata": {},
     "output_type": "execute_result"
    }
   ],
   "source": [
    "text = \"This is not a good string     \"\n",
    "text.strip()"
   ]
  },
  {
   "cell_type": "code",
   "execution_count": 42,
   "metadata": {},
   "outputs": [
    {
     "name": "stdout",
     "output_type": "stream",
     "text": [
      "Found: Atleast one uppercase character.\n"
     ]
    }
   ],
   "source": [
    "userinput = input(\"Enter the string\")\n",
    "\n",
    "if any(char.isupper() for char in userinput):\n",
    "    print(\"Found: Atleast one uppercase character.\")\n",
    "else:\n",
    "    print(\"Not found: No uppercase character.\")"
   ]
  },
  {
   "cell_type": "code",
   "execution_count": 46,
   "metadata": {},
   "outputs": [
    {
     "name": "stdout",
     "output_type": "stream",
     "text": [
      "['Joe', 'David', 'Tom', 'Mark', 'Chris', 'Robert']\n"
     ]
    }
   ],
   "source": [
    "names = 'Joe, David, Tom, Mark, Chris, Robert'\n",
    "\n",
    "x = names.split(', ')\n",
    "\n",
    "print(x)"
   ]
  },
  {
   "cell_type": "code",
   "execution_count": 48,
   "metadata": {},
   "outputs": [
    {
     "name": "stdout",
     "output_type": "stream",
     "text": [
      "thisaye isaye someaye textaye\n"
     ]
    }
   ],
   "source": [
    "text = 'this is some text'\n",
    "\n",
    "words = text.split()\n",
    "\n",
    "modified_words = [word + 'aye' for word in words]\n",
    "\n",
    "result = ' '.join(modified_words)\n",
    "\n",
    "print(result)"
   ]
  },
  {
   "cell_type": "code",
   "execution_count": 51,
   "metadata": {},
   "outputs": [
    {
     "name": "stdout",
     "output_type": "stream",
     "text": [
      "The string does not contain 'fyi'. \n"
     ]
    }
   ],
   "source": [
    "x = input(\"Enter the string\")\n",
    "\n",
    "if 'fyi' in x:\n",
    "    print(\"The string contains 'fyi'.\")\n",
    "else:\n",
    "    print(\"The string does not contain 'fyi'. \")\n",
    "\n",
    "    "
   ]
  },
  {
   "cell_type": "code",
   "execution_count": 54,
   "metadata": {},
   "outputs": [
    {
     "name": "stdout",
     "output_type": "stream",
     "text": [
      "python\n"
     ]
    }
   ],
   "source": [
    "text = '%p34@y!*-*!t68h#&on404'\n",
    "\n",
    "result = ''.join(char for char in text if char.isalpha())\n",
    "\n",
    "print(result)"
   ]
  },
  {
   "cell_type": "code",
   "execution_count": 1,
   "metadata": {},
   "outputs": [
    {
     "name": "stdout",
     "output_type": "stream",
     "text": [
      "The average word length is: 4.64 characters\n"
     ]
    }
   ],
   "source": [
    "paragraph = \"this is a paragraph which is written just for the purpose of providing content to let the average word length be calculated\"\n",
    "\n",
    "words = paragraph.split()\n",
    "total_characters = sum(len(word) for word in words)\n",
    "average_word_length = total_characters / len(words)\n",
    "\n",
    "print(f\"The average word length is: {average_word_length:.2f} characters\")"
   ]
  },
  {
   "cell_type": "code",
   "execution_count": 21,
   "metadata": {},
   "outputs": [
    {
     "name": "stdout",
     "output_type": "stream",
     "text": [
      "                           * \n",
      " 0                            \n",
      "                      * \n",
      " 0* \n",
      " 0* \n",
      " 0                       \n",
      "                 * \n",
      " 0* \n",
      " 0* \n",
      " 0* \n",
      " 0* \n",
      " 0                  \n",
      "            * \n",
      " 0* \n",
      " 0* \n",
      " 0* \n",
      " 0* \n",
      " 0* \n",
      " 0* \n",
      " 0             \n",
      "       * \n",
      " 0* \n",
      " 0* \n",
      " 0* \n",
      " 0* \n",
      " 0* \n",
      " 0* \n",
      " 0* \n",
      " 0* \n",
      " 0        \n",
      "  * \n",
      " 0* \n",
      " 0* \n",
      " 0* \n",
      " 0* \n",
      " 0* \n",
      " 0* \n",
      " 0* \n",
      " 0* \n",
      " 0* \n",
      " 0* \n",
      " 0   \n",
      "* \n",
      " 0* \n",
      " 0* \n",
      " 0* \n",
      " 0* \n",
      " 0* \n",
      " 0* \n",
      " 0* \n",
      " 0* \n",
      " 0* \n",
      " 0* \n",
      " 0* \n",
      " 0* \n",
      " 0\n",
      "* \n",
      " 0* \n",
      " 0* \n",
      " 0* \n",
      " 0* \n",
      " 0* \n",
      " 0* \n",
      " 0* \n",
      " 0* \n",
      " 0* \n",
      " 0* \n",
      " 0* \n",
      " 0* \n",
      " 0* \n",
      " 0* \n",
      " 0\n"
     ]
    }
   ],
   "source": []
  },
  {
   "cell_type": "code",
   "execution_count": null,
   "metadata": {},
   "outputs": [],
   "source": []
  }
 ],
 "metadata": {
  "kernelspec": {
   "display_name": "base",
   "language": "python",
   "name": "python3"
  },
  "language_info": {
   "codemirror_mode": {
    "name": "ipython",
    "version": 3
   },
   "file_extension": ".py",
   "mimetype": "text/x-python",
   "name": "python",
   "nbconvert_exporter": "python",
   "pygments_lexer": "ipython3",
   "version": "3.11.5"
  }
 },
 "nbformat": 4,
 "nbformat_minor": 2
}
