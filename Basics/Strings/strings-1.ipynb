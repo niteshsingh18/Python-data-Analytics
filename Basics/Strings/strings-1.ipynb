{
 "cells": [
  {
   "cell_type": "markdown",
   "metadata": {},
   "source": [
    "# string\n",
    "- creating\n",
    "- indexing and slicing\n",
    "- methods\n",
    "    - formatting\n",
    "    - validation\n",
    "    - searching\n",
    "    - utilities\n",
    "- operations\n"
   ]
  },
  {
   "cell_type": "code",
   "execution_count": 1,
   "metadata": {},
   "outputs": [
    {
     "name": "stdout",
     "output_type": "stream",
     "text": [
      "<class 'str'> <class 'str'> <class 'str'> <class 'str'>\n",
      "apple\n",
      "Banana\n",
      "this is an example of a multiline string\n",
      "another example of a multiline string\n"
     ]
    }
   ],
   "source": [
    "a = 'apple'\n",
    "b = \"Banana\"\n",
    "c = '''this is an example of a multiline string'''\n",
    "d = \"\"\"another example of a multiline string\"\"\"\n",
    "\n",
    "print(type(a), type(b), type(c), type(d))\n",
    "print(a)\n",
    "print(b)\n",
    "print(c)\n",
    "print(d)"
   ]
  },
  {
   "cell_type": "code",
   "execution_count": 2,
   "metadata": {},
   "outputs": [
    {
     "name": "stdout",
     "output_type": "stream",
     "text": [
      " The hippo was 5' tall\n",
      "The hippo was 5' tall\n"
     ]
    }
   ],
   "source": [
    "# msg = 'The hippo was 5' tall\n",
    "msg = ' The hippo was 5\\' tall'\n",
    "print(msg)\n",
    "msg = \"The hippo was 5' tall\"\n",
    "print(msg)"
   ]
  },
  {
   "cell_type": "code",
   "execution_count": 3,
   "metadata": {},
   "outputs": [
    {
     "name": "stdout",
     "output_type": "stream",
     "text": [
      "9\n",
      "a\n",
      "l\n",
      "x\n",
      "n\n",
      "n\n",
      "r\n"
     ]
    }
   ],
   "source": [
    "name = 'alaxender' # iterable\n",
    "print(len(name))\n",
    "print(name[0]) # index 0 of name variable\n",
    "print(name[1]) # index 1 of name variable\n",
    "print(name[3])\n",
    "print(name[5])\n",
    "print(name[-4]) # last index of name variable\n",
    "print(name[-1]) # 4th from last index of "
   ]
  },
  {
   "cell_type": "code",
   "execution_count": 8,
   "metadata": {},
   "outputs": [
    {
     "name": "stdout",
     "output_type": "stream",
     "text": [
      "laxe\n"
     ]
    }
   ],
   "source": [
    "print( name[1], name[2], name[3], name[4], sep= '')"
   ]
  },
  {
   "cell_type": "markdown",
   "metadata": {},
   "source": [
    "Slicing syntax :\n",
    "\n",
    "str[start : stop+1]\n",
    "\n",
    "\n"
   ]
  },
  {
   "cell_type": "code",
   "execution_count": 9,
   "metadata": {},
   "outputs": [
    {
     "name": "stdout",
     "output_type": "stream",
     "text": [
      "alaxe\n",
      "alax\n",
      "ende\n",
      "ender\n"
     ]
    }
   ],
   "source": [
    "print(name[0:5]) # get the values of 0,1,2,3,4, (5 is not included)\n",
    "print(name[:4]) # get the values of 0,1,2,3, (4 is not included)\n",
    "print(name[4:8])\n",
    "print(name[4:])\n"
   ]
  },
  {
   "cell_type": "code",
   "execution_count": 15,
   "metadata": {},
   "outputs": [
    {
     "name": "stdout",
     "output_type": "stream",
     "text": [
      "Leanardo\n",
      "vinci\n",
      "da vinci\n",
      "da\n",
      "da\n",
      "da\n",
      "da\n"
     ]
    }
   ],
   "source": [
    "n2 = 'Leanardo da vinci'\n",
    "print(n2[:8])\n",
    "print(n2[-5:])\n",
    "print(n2[-8:])\n",
    "print(n2[-8:-6])\n",
    "print(n2[9:11])\n",
    "print(n2[9:-6])\n",
    "print(n2[-8:11])"
   ]
  },
  {
   "cell_type": "code",
   "execution_count": 13,
   "metadata": {},
   "outputs": [
    {
     "name": "stdout",
     "output_type": "stream",
     "text": [
      "Vijay\n",
      "deenanath\n",
      "chauhan\n",
      "deen\n"
     ]
    }
   ],
   "source": [
    "n3 = 'Vijay deenanath chauhan'\n",
    "print(n3[:5])\n",
    "print(n3[6:15])\n",
    "print(n3[-7:])\n",
    "print(n3[6:10])"
   ]
  },
  {
   "cell_type": "code",
   "execution_count": 16,
   "metadata": {},
   "outputs": [
    {
     "data": {
      "text/plain": [
       "'Vijay deenanath chauhan'"
      ]
     },
     "execution_count": 16,
     "metadata": {},
     "output_type": "execute_result"
    }
   ],
   "source": [
    "n3[:]"
   ]
  },
  {
   "cell_type": "code",
   "execution_count": 17,
   "metadata": {},
   "outputs": [
    {
     "data": {
      "text/plain": [
       "'Vijay deenanath chauhan'"
      ]
     },
     "execution_count": 17,
     "metadata": {},
     "output_type": "execute_result"
    }
   ],
   "source": [
    "n3[::]"
   ]
  },
  {
   "cell_type": "code",
   "execution_count": 18,
   "metadata": {},
   "outputs": [
    {
     "data": {
      "text/plain": [
       "'Vjydeaahcahn'"
      ]
     },
     "execution_count": 18,
     "metadata": {},
     "output_type": "execute_result"
    }
   ],
   "source": [
    "n3[::2]"
   ]
  },
  {
   "cell_type": "code",
   "execution_count": 19,
   "metadata": {},
   "outputs": [
    {
     "data": {
      "text/plain": [
       "'ia ennt hua'"
      ]
     },
     "execution_count": 19,
     "metadata": {},
     "output_type": "execute_result"
    }
   ],
   "source": [
    "n3[1::2] #odd index characters"
   ]
  },
  {
   "cell_type": "code",
   "execution_count": 21,
   "metadata": {},
   "outputs": [
    {
     "data": {
      "text/plain": [
       "'eao'"
      ]
     },
     "execution_count": 21,
     "metadata": {},
     "output_type": "execute_result"
    }
   ],
   "source": [
    "n2[1:10:3] # 1, 4, 7, (stop at 10) "
   ]
  },
  {
   "cell_type": "code",
   "execution_count": 22,
   "metadata": {},
   "outputs": [
    {
     "data": {
      "text/plain": [
       "'icniv ad odranaeL'"
      ]
     },
     "execution_count": 22,
     "metadata": {},
     "output_type": "execute_result"
    }
   ],
   "source": [
    "n2[::-1] # reverse the string"
   ]
  },
  {
   "cell_type": "code",
   "execution_count": 24,
   "metadata": {},
   "outputs": [
    {
     "name": "stdout",
     "output_type": "stream",
     "text": [
      "This is a quote from brandon sanderson,\n",
      "\"The purpose of a storyteller is not to tell you how to think,\n",
      "but to give you questions to think upon.\"\n",
      "first 50 letters\n",
      "This is a quote from brandon sanderson,\n",
      "\"The purpo\n",
      "last 50 letters\n",
      "se of a storyteller is not to tell you how to think,\n",
      "but to give you questions to think upon.\"\n",
      "first 500 letters\n",
      "This is a quote from brandon sanderson,\n",
      "\"The purpose of a storyteller is not to tell you how to think,\n",
      "but to give you questions to think upon.\"\n"
     ]
    }
   ],
   "source": [
    "quote = '''This is a quote from brandon sanderson,\n",
    "\"The purpose of a storyteller is not to tell you how to think,\n",
    "but to give you questions to think upon.\"'''\n",
    "print(quote)\n",
    "\n",
    "print('first 50 letters')\n",
    "print(quote[:50])\n",
    "\n",
    "print('last 50 letters')\n",
    "print(quote[50:])\n",
    "\n",
    "print('first 500 letters')\n",
    "print(quote[:500])\n",
    "\n"
   ]
  },
  {
   "cell_type": "markdown",
   "metadata": {},
   "source": [
    "Random questions\n",
    "\n"
   ]
  },
  {
   "cell_type": "code",
   "execution_count": 25,
   "metadata": {},
   "outputs": [
    {
     "name": "stdout",
     "output_type": "stream",
     "text": [
      "1 2 3 5 8 13 21 34 55 89 144 233 "
     ]
    }
   ],
   "source": [
    "# fibonacci sequence 1,2,3,5,8,13,21,34....\n",
    "a, b = 1,2\n",
    "print(a, b, end=' ')\n",
    "for i in range(10):\n",
    "    c = a + b\n",
    "    print(c, end= ' ')\n",
    "    # swap values\n",
    "    a = b # a = 3\n",
    "    b = c # b = 5"
   ]
  },
  {
   "cell_type": "code",
   "execution_count": null,
   "metadata": {},
   "outputs": [],
   "source": [
    "print(ord('A', ord('a'), ord('🎅')))"
   ]
  }
 ],
 "metadata": {
  "kernelspec": {
   "display_name": "base",
   "language": "python",
   "name": "python3"
  },
  "language_info": {
   "codemirror_mode": {
    "name": "ipython",
    "version": 3
   },
   "file_extension": ".py",
   "mimetype": "text/x-python",
   "name": "python",
   "nbconvert_exporter": "python",
   "pygments_lexer": "ipython3",
   "version": "3.11.5"
  }
 },
 "nbformat": 4,
 "nbformat_minor": 2
}
