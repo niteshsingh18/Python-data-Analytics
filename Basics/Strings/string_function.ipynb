{
 "cells": [
  {
   "cell_type": "markdown",
   "metadata": {},
   "source": [
    "functions vs methods\n",
    "- Functions: \n",
    "  - functions are a block of code that does a perticular operations and returns a result,\n",
    "  - fuctions are used directly without the need of creating a variable(object) first\n",
    "- Methods:  \n",
    "  - Methods are  functions that are associated with a variable (object)\n",
    "  - Methods cannot be used directly\n",
    "  - They need to be called using the variable (object) they are associated with \n",
    "  "
   ]
  },
  {
   "cell_type": "markdown",
   "metadata": {},
   "source": []
  },
  {
   "cell_type": "code",
   "execution_count": 1,
   "metadata": {},
   "outputs": [
    {
     "name": "stdout",
     "output_type": "stream",
     "text": [
      "11\n",
      "HELLO WORLD\n"
     ]
    }
   ],
   "source": [
    "print(len(\"Hello world\"))\n",
    "print(\"Hello world\".upper())"
   ]
  },
  {
   "cell_type": "code",
   "execution_count": null,
   "metadata": {},
   "outputs": [],
   "source": [
    "nums = 'numbers'"
   ]
  },
  {
   "cell_type": "markdown",
   "metadata": {},
   "source": [
    "String Methods:\n",
    "\n",
    "    - Formatting:\n",
    "        - upper()\n",
    "        - lower()\n",
    "        - capitalize()\n",
    "        - title()\n",
    "        - swapcase()\n",
    "        - casefold()\n",
    "\n",
    "    - Validation:\n",
    "        - isalpha()\n",
    "        - isalnum()\n",
    "        - isnumeric()\n",
    "        - startswith()\n",
    "        - endswith()\n",
    "        - islower()\n",
    "    - Searching:\n",
    "        - find()\n",
    "        - count()\n",
    "        - replace()\n",
    "    - Utility:\n",
    "        - split()\n",
    "        - join()\n",
    "        - strip()\n",
    "        - removeprefix()\n",
    "        - removesuffix()\n"
   ]
  },
  {
   "cell_type": "markdown",
   "metadata": {},
   "source": []
  },
  {
   "cell_type": "code",
   "execution_count": 2,
   "metadata": {},
   "outputs": [
    {
     "data": {
      "text/plain": [
       "'this is sprta'"
      ]
     },
     "execution_count": 2,
     "metadata": {},
     "output_type": "execute_result"
    }
   ],
   "source": [
    "msg = 'This is Sprta'\n",
    "msg.lower()\n"
   ]
  },
  {
   "cell_type": "code",
   "execution_count": 3,
   "metadata": {},
   "outputs": [
    {
     "data": {
      "text/plain": [
       "'This is Sprta'"
      ]
     },
     "execution_count": 3,
     "metadata": {},
     "output_type": "execute_result"
    }
   ],
   "source": [
    "msg"
   ]
  },
  {
   "cell_type": "code",
   "execution_count": 5,
   "metadata": {},
   "outputs": [
    {
     "name": "stdout",
     "output_type": "stream",
     "text": [
      "this is sprta\n"
     ]
    }
   ],
   "source": [
    "msg = msg.lower()\n",
    "print(msg)"
   ]
  },
  {
   "cell_type": "code",
   "execution_count": 7,
   "metadata": {},
   "outputs": [
    {
     "name": "stdout",
     "output_type": "stream",
     "text": [
      "this is sparta\n",
      "THIS IS SPARTA\n",
      "This is sparta\n",
      "This Is Sparta\n",
      "tHIS IS sPARTA\n",
      "this is sparta\n"
     ]
    }
   ],
   "source": [
    "msg = 'This is Sparta'\n",
    "print(msg.lower())\n",
    "print(msg.upper())\n",
    "print(msg.capitalize())\n",
    "print(msg.title())\n",
    "print(msg.swapcase())\n",
    "print(msg.casefold())\n"
   ]
  },
  {
   "cell_type": "code",
   "execution_count": 10,
   "metadata": {},
   "outputs": [
    {
     "name": "stdout",
     "output_type": "stream",
     "text": [
      "True\n",
      "False\n",
      "False\n",
      "True\n",
      "False\n",
      "False\n",
      "False\n",
      "True\n",
      "True\n"
     ]
    }
   ],
   "source": [
    "print(\"abc\".isalpha())\n",
    "print(\"ab c4\".isalpha())\n",
    "print(\"abc-def\".isalpha())\n",
    "print(\"123\".isnumeric())\n",
    "print(\"1,2,3\".isnumeric())\n",
    "print(\"apple12\".isnumeric())\n",
    "print(\"3.12\".isnumeric())\n",
    "print(\"monkey123\".isalnum())\n",
    "print(\"123\".isalnum())\n"
   ]
  },
  {
   "cell_type": "code",
   "execution_count": 11,
   "metadata": {},
   "outputs": [
    {
     "name": "stdout",
     "output_type": "stream",
     "text": [
      "Input is correct\n"
     ]
    }
   ],
   "source": [
    "num1 = input('enter a number')\n",
    "if num1.isnumeric():\n",
    "    print('Input is correct')\n",
    "    num1 = int(num1)\n",
    "else:\n",
    "    print('input is not correct')"
   ]
  },
  {
   "cell_type": "code",
   "execution_count": 12,
   "metadata": {},
   "outputs": [
    {
     "data": {
      "text/plain": [
       "True"
      ]
     },
     "execution_count": 12,
     "metadata": {},
     "output_type": "execute_result"
    }
   ],
   "source": [
    "name = 'Dr. Cristopher Brooks'\n",
    "name.startswith('Dr.')"
   ]
  },
  {
   "cell_type": "code",
   "execution_count": 14,
   "metadata": {},
   "outputs": [
    {
     "data": {
      "text/plain": [
       "True"
      ]
     },
     "execution_count": 14,
     "metadata": {},
     "output_type": "execute_result"
    }
   ],
   "source": [
    "name = 'Cristopher Brooks'\n",
    "name.startswith('Cris')"
   ]
  },
  {
   "cell_type": "code",
   "execution_count": 15,
   "metadata": {},
   "outputs": [
    {
     "name": "stdout",
     "output_type": "stream",
     "text": [
      "Chris\n",
      "Christian\n",
      "Christina\n"
     ]
    }
   ],
   "source": [
    "names =  ['Chris', 'Christian', 'Christina', 'Kristen', 'Chiranjeevi']\n",
    "for name in names:\n",
    "    if name.startswith('Chris'):\n",
    "        print(name)"
   ]
  },
  {
   "cell_type": "code",
   "execution_count": 16,
   "metadata": {},
   "outputs": [
    {
     "name": "stdout",
     "output_type": "stream",
     "text": [
      "Chris\n",
      "Christian\n",
      "Christina\n",
      "Chiranjeevi\n"
     ]
    }
   ],
   "source": [
    "names =  ['Chris', 'Christian', 'Christina', 'Kristen', 'Chiranjeevi']\n",
    "for name in names:\n",
    "    if name.startswith('Ch'):\n",
    "        print(name)"
   ]
  },
  {
   "cell_type": "code",
   "execution_count": 17,
   "metadata": {},
   "outputs": [
    {
     "name": "stdout",
     "output_type": "stream",
     "text": [
      "0\n",
      "-1\n",
      "11\n",
      "33\n",
      "48\n",
      "-1\n"
     ]
    }
   ],
   "source": [
    "data = 'This is a long string with some contents and is simple string'\n",
    "print(data.find('This'))\n",
    "print(data.find('this'))\n",
    "print(data.find('on'))\n",
    "print(data.find('on', 15))\n",
    "print(data.find('simple'))\n",
    "print(data.find('simple', 5, 30)) # start, end"
   ]
  },
  {
   "cell_type": "code",
   "execution_count": 18,
   "metadata": {},
   "outputs": [
    {
     "name": "stdout",
     "output_type": "stream",
     "text": [
      "3\n",
      "2\n",
      "1\n",
      "0\n"
     ]
    }
   ],
   "source": [
    "print(data.count('is'))\n",
    "print(data.count('a'))\n",
    "print(data.count('simple'))\n",
    "print(data.count('scan'))"
   ]
  },
  {
   "cell_type": "code",
   "execution_count": 19,
   "metadata": {},
   "outputs": [
    {
     "data": {
      "text/plain": [
       "'Thwas was a long string with some contents and was simple string'"
      ]
     },
     "execution_count": 19,
     "metadata": {},
     "output_type": "execute_result"
    }
   ],
   "source": [
    "data.replace('is', 'was')"
   ]
  },
  {
   "cell_type": "code",
   "execution_count": 20,
   "metadata": {},
   "outputs": [
    {
     "data": {
      "text/plain": [
       "'Thas as a long strang wath somo contonts and as samplo strang'"
      ]
     },
     "execution_count": 20,
     "metadata": {},
     "output_type": "execute_result"
    }
   ],
   "source": [
    "data.replace('i', 'a').replace('e', 'o')"
   ]
  },
  {
   "cell_type": "code",
   "execution_count": 21,
   "metadata": {},
   "outputs": [
    {
     "data": {
      "text/plain": [
       "'Ths s a lng strng wth sm cntnts and s smpl strng'"
      ]
     },
     "execution_count": 21,
     "metadata": {},
     "output_type": "execute_result"
    }
   ],
   "source": [
    "data.replace('i', '').replace('e', '').replace('o', '')"
   ]
  },
  {
   "cell_type": "code",
   "execution_count": 23,
   "metadata": {},
   "outputs": [
    {
     "name": "stdout",
     "output_type": "stream",
     "text": [
      "['This', 'is', 'a', 'long', 'string', 'with', 'some', 'contents', 'and', 'is', 'simple', 'string']\n",
      "['Th', 's ', 's a long str', 'ng w', 'th some contents and ', 's s', 'mple str', 'ng']\n",
      "['This', 'is', 'a', 'long string with some contents and is simple string']\n"
     ]
    },
    {
     "data": {
      "text/plain": [
       "['apple, banana, orange']"
      ]
     },
     "execution_count": 23,
     "metadata": {},
     "output_type": "execute_result"
    }
   ],
   "source": [
    "print(data.split())\n",
    "print(data.split('i'))\n",
    "print(data.split(maxsplit=3))\n",
    "\"apple, banana, orange\".split('. ')"
   ]
  },
  {
   "cell_type": "code",
   "execution_count": 25,
   "metadata": {},
   "outputs": [
    {
     "name": "stdout",
     "output_type": "stream",
     "text": [
      "12\n"
     ]
    }
   ],
   "source": [
    "print(len(data.split()))"
   ]
  },
  {
   "cell_type": "code",
   "execution_count": 28,
   "metadata": {},
   "outputs": [
    {
     "name": "stdout",
     "output_type": "stream",
     "text": [
      "123456\n",
      "1 2 3 4 5 6\n",
      "1,2,3,4,5,6\n",
      "1x,-x2x,-x3x,-x4x,-x5x,-x6\n",
      "1_2_3_4_5_6\n"
     ]
    }
   ],
   "source": [
    "x = ['1', '2', '3', '4', '5', '6']\n",
    "print(''.join(x))\n",
    "print(' '.join(x))\n",
    "print(','.join(x))\n",
    "print('x,-x'.join(x))\n",
    "print('_'.join(x))"
   ]
  },
  {
   "cell_type": "code",
   "execution_count": null,
   "metadata": {},
   "outputs": [],
   "source": []
  }
 ],
 "metadata": {
  "kernelspec": {
   "display_name": "base",
   "language": "python",
   "name": "python3"
  },
  "language_info": {
   "codemirror_mode": {
    "name": "ipython",
    "version": 3
   },
   "file_extension": ".py",
   "mimetype": "text/x-python",
   "name": "python",
   "nbconvert_exporter": "python",
   "pygments_lexer": "ipython3",
   "version": "3.11.5"
  }
 },
 "nbformat": 4,
 "nbformat_minor": 2
}
