{
 "cells": [
  {
   "cell_type": "code",
   "execution_count": 3,
   "metadata": {},
   "outputs": [
    {
     "name": "stdout",
     "output_type": "stream",
     "text": [
      "1\n",
      "2\n",
      "3\n",
      "4\n",
      "5\n",
      "6\n",
      "7\n",
      "8\n",
      "9\n",
      "10\n"
     ]
    }
   ],
   "source": [
    "for i in range(1,11):\n",
    "    print(i)"
   ]
  },
  {
   "cell_type": "code",
   "execution_count": 1,
   "metadata": {},
   "outputs": [
    {
     "name": "stdout",
     "output_type": "stream",
     "text": [
      "3 * 1 = 3\n",
      "3 * 2 = 6\n",
      "3 * 3 = 9\n",
      "3 * 4 = 12\n",
      "3 * 5 = 15\n",
      "3 * 6 = 18\n",
      "3 * 7 = 21\n",
      "3 * 8 = 24\n",
      "3 * 9 = 27\n",
      "3 * 10 = 30\n"
     ]
    }
   ],
   "source": [
    "number = 3\n",
    "\n",
    "i = 1\n",
    "\n",
    "while i <= 10:\n",
    "    result = number * i\n",
    "    print(f\"{number} * {i} = {result}\")\n",
    "    i += 1"
   ]
  },
  {
   "cell_type": "code",
   "execution_count": 3,
   "metadata": {},
   "outputs": [
    {
     "name": "stdout",
     "output_type": "stream",
     "text": [
      "sum of even numbers is 2550\n"
     ]
    }
   ],
   "source": [
    "sum_of_even_numbers = 0\n",
    "\n",
    "for i in range(2,101,2):\n",
    "    sum_of_even_numbers += i\n",
    "\n",
    "print(\"sum of even numbers is\", sum_of_even_numbers)\n",
    "    "
   ]
  },
  {
   "cell_type": "code",
   "execution_count": 6,
   "metadata": {},
   "outputs": [
    {
     "name": "stdout",
     "output_type": "stream",
     "text": [
      "67 is a prime number.\n"
     ]
    }
   ],
   "source": [
    "number = 67\n",
    "\n",
    "is_prime = True\n",
    "divisor = 2\n",
    "\n",
    "while divisor <= number // 2:\n",
    "    if number % divisor == 0:\n",
    "        is_prime = False\n",
    "        break\n",
    "    divisor += 1\n",
    "\n",
    "if is_prime and number > 1:\n",
    "    print(f\"{number} is a prime number.\")\n",
    "else:\n",
    "    print(f\"{number} is not a prime number.\")"
   ]
  },
  {
   "cell_type": "code",
   "execution_count": 8,
   "metadata": {},
   "outputs": [
    {
     "name": "stdout",
     "output_type": "stream",
     "text": [
      "The factorial of 6 is 720.\n"
     ]
    }
   ],
   "source": [
    "def factorial(num):\n",
    "    result = 1\n",
    "    for i in range(1, num + 1):\n",
    "        result *= i\n",
    "    return result\n",
    "\n",
    "number = int(input(\"Enter a number: \"))\n",
    "\n",
    "if number < 0:\n",
    "    print(\"Factorial is not defined for negative numbers.\")\n",
    "else:\n",
    "    \n",
    "    fact = factorial(number)\n",
    "    print(f\"The factorial of {number} is {fact}.\")"
   ]
  },
  {
   "cell_type": "code",
   "execution_count": 7,
   "metadata": {},
   "outputs": [
    {
     "name": "stdout",
     "output_type": "stream",
     "text": [
      "Fibonacci Series:\n",
      "0 1 1 2 3 5 "
     ]
    }
   ],
   "source": [
    "def fibonacci(limit):\n",
    "    a, b = 0, 1\n",
    "    \n",
    "    print(\"Fibonacci Series:\")\n",
    "    print(a, b, end=\" \")\n",
    "\n",
    "    while a + b <= limit:\n",
    "        c = a + b\n",
    "        \n",
    "        print(c, end=\" \")\n",
    "       \n",
    "        a, b = b, c\n",
    "\n",
    "limit = int(input(\"Enter the limit for the Fibonacci series: \"))\n",
    "\n",
    "fibonacci(limit)"
   ]
  },
  {
   "cell_type": "code",
   "execution_count": 8,
   "metadata": {},
   "outputs": [
    {
     "name": "stdout",
     "output_type": "stream",
     "text": [
      "The largest number in the array is : 10\n"
     ]
    }
   ],
   "source": [
    "def find_largest_element(arr):\n",
    "    if not arr:\n",
    "        return None\n",
    "    \n",
    "    max_element = arr[0]\n",
    "\n",
    "    for num in arr:\n",
    "        if num > max_element:\n",
    "            max_element = num\n",
    "\n",
    "    return max_element\n",
    "\n",
    "array = (5, 8, 2, 10, 8, 7)\n",
    "\n",
    "result = find_largest_element (array)\n",
    "\n",
    "if result is not None:\n",
    "    print(f\"The largest number in the array is : {result}\")\n",
    "else:\n",
    "    print(\"The array is empty\")"
   ]
  },
  {
   "cell_type": "code",
   "execution_count": 9,
   "metadata": {},
   "outputs": [
    {
     "name": "stdout",
     "output_type": "stream",
     "text": [
      "The reverse string is: 77,32,43\n"
     ]
    }
   ],
   "source": [
    "def reverse_string(input_str):\n",
    "\n",
    "    reversed_str = \"\"\n",
    "    index = len(input_str) - 1\n",
    "\n",
    "    while index >= 0:\n",
    "        reversed_str += input_str[index]\n",
    "        index -= 1 \n",
    "\n",
    "    return reversed_str\n",
    "\n",
    "input_string = input(\"Enter a string: \")\n",
    "result = reverse_string(input_string)\n",
    "\n",
    "print(f\"The reverse string is: {result}\")"
   ]
  },
  {
   "cell_type": "code",
   "execution_count": 34,
   "metadata": {},
   "outputs": [
    {
     "name": "stdout",
     "output_type": "stream",
     "text": [
      "ASCII values of uppercase letters:\n",
      "A: 65\n",
      "B: 66\n",
      "C: 67\n",
      "D: 68\n",
      "E: 69\n",
      "F: 70\n",
      "G: 71\n",
      "H: 72\n",
      "I: 73\n",
      "J: 74\n",
      "K: 75\n",
      "L: 76\n",
      "M: 77\n",
      "N: 78\n",
      "O: 79\n",
      "P: 80\n",
      "Q: 81\n",
      "R: 82\n",
      "S: 83\n",
      "T: 84\n",
      "U: 85\n",
      "V: 86\n",
      "W: 87\n",
      "X: 88\n",
      "Y: 89\n",
      "Z: 90\n"
     ]
    }
   ],
   "source": [
    "print(\"ASCII values of uppercase letters:\")\n",
    "for uppercase_letter in range(ord('A'), ord('Z') + 1):\n",
    "    print(f\"{chr(uppercase_letter)}: {uppercase_letter}\")\n",
    "\n"
   ]
  },
  {
   "cell_type": "code",
   "execution_count": 4,
   "metadata": {},
   "outputs": [
    {
     "name": "stdout",
     "output_type": "stream",
     "text": [
      "The given string is not a palindrome.\n"
     ]
    }
   ],
   "source": [
    "def is_palindrome(input_str):\n",
    "\n",
    "    cleaned_str = input_str.replace(\" \", \"\").lower()\n",
    "\n",
    "    length = len(cleaned_str)\n",
    "    left, right = 0, length - 1\n",
    "\n",
    "    while left < right:\n",
    "        if cleaned_str[left] != cleaned_str[right]:\n",
    "            return False\n",
    "        left += 1\n",
    "        right -= 1\n",
    "\n",
    "    return True\n",
    "\n",
    "input_string = input(\"Enter a string: \")\n",
    "result = is_palindrome(input_string)\n",
    "\n",
    "if result:\n",
    "    print(\"The given string is a palindrome.\")\n",
    "else:\n",
    "    print(\"The given string is not a palindrome.\")\n"
   ]
  },
  {
   "cell_type": "code",
   "execution_count": 6,
   "metadata": {},
   "outputs": [
    {
     "name": "stdout",
     "output_type": "stream",
     "text": [
      "The average of the numbers is: 38.8\n"
     ]
    }
   ],
   "source": [
    "def calculate_average(numbers):\n",
    "\n",
    "    if not numbers:\n",
    "        return None\n",
    "\n",
    "    total = 0\n",
    "    count = 0\n",
    "\n",
    "    for num in numbers:\n",
    "        total += num\n",
    "        count += 1\n",
    "\n",
    "    average = total / count\n",
    "    return average\n",
    "\n",
    "number_list = [5, 32, 12, 56, 89]\n",
    "result = calculate_average(number_list)\n",
    "\n",
    "if result is not None:\n",
    "    print(f\"The average of the numbers is: {result}\")\n",
    "else:\n",
    "    print(\"The list is empty.\")"
   ]
  },
  {
   "cell_type": "code",
   "execution_count": 11,
   "metadata": {},
   "outputs": [
    {
     "name": "stdout",
     "output_type": "stream",
     "text": [
      "The smallest number in the array is -87\n"
     ]
    }
   ],
   "source": [
    "def find_smallest_element(arr):\n",
    "\n",
    "    if not arr:\n",
    "        return \"Array is empty\"\n",
    "\n",
    "    smallest = arr[0]\n",
    "    index = 1\n",
    "    \n",
    "    while index < len(arr):\n",
    "        if arr[index] < smallest:\n",
    "            smallest = arr[index]\n",
    "\n",
    "        index += 1\n",
    "\n",
    "    return smallest\n",
    "    \n",
    "my_array = [12, 56, 88, 9, -34, 2, 5, -87, -23]\n",
    "result = find_smallest_element(my_array)\n",
    "print(\"The smallest number in the array is\", result)"
   ]
  },
  {
   "cell_type": "code",
   "execution_count": 12,
   "metadata": {},
   "outputs": [
    {
     "name": "stdout",
     "output_type": "stream",
     "text": [
      "The sum of digits of 4376876 is: 41\n"
     ]
    }
   ],
   "source": [
    "def sum_of_digits(number):\n",
    "    number_str = str(number)\n",
    "\n",
    "    sum_digits = 0\n",
    "\n",
    "    for digit_char in number_str:\n",
    "        sum_digits += int(digit_char)\n",
    "\n",
    "    return sum_digits\n",
    "    \n",
    "input_number = 4376876\n",
    "result = sum_of_digits(input_number)\n",
    "print(f\"The sum of digits of {input_number} is:\", result)"
   ]
  },
  {
   "cell_type": "code",
   "execution_count": 13,
   "metadata": {},
   "outputs": [
    {
     "name": "stdout",
     "output_type": "stream",
     "text": [
      "2048 is a leap year.\n"
     ]
    }
   ],
   "source": [
    "def is_leap_year(year):\n",
    "\n",
    "    if year % 4 == 0:\n",
    "        if year % 100 == 0:\n",
    "            if year % 400 == 0:\n",
    "                return True\n",
    "            else:\n",
    "                return False\n",
    "        else:\n",
    "            return True\n",
    "    else:\n",
    "        return False\n",
    "\n",
    "year = int(input(\"Enter a year: \"))\n",
    "result = is_leap_year(year)\n",
    "\n",
    "if result:\n",
    "    print(f\"{year} is a leap year.\")\n",
    "else:\n",
    "    print(f\"{year} is not a leap year.\")"
   ]
  },
  {
   "cell_type": "code",
   "execution_count": 22,
   "metadata": {},
   "outputs": [
    {
     "name": "stdout",
     "output_type": "stream",
     "text": [
      "multiplication tables:\n",
      "\n",
      "Mutiplication table for 1:\n",
      "1 * 1 = 1\n",
      "1 * 2 = 2\n",
      "1 * 3 = 3\n",
      "1 * 4 = 4\n",
      "1 * 5 = 5\n",
      "1 * 6 = 6\n",
      "1 * 7 = 7\n",
      "1 * 8 = 8\n",
      "1 * 9 = 9\n",
      "1 * 10 = 10\n",
      "\n",
      "Mutiplication table for 2:\n",
      "2 * 1 = 2\n",
      "2 * 2 = 4\n",
      "2 * 3 = 6\n",
      "2 * 4 = 8\n",
      "2 * 5 = 10\n",
      "2 * 6 = 12\n",
      "2 * 7 = 14\n",
      "2 * 8 = 16\n",
      "2 * 9 = 18\n",
      "2 * 10 = 20\n",
      "\n",
      "Mutiplication table for 3:\n",
      "3 * 1 = 3\n",
      "3 * 2 = 6\n",
      "3 * 3 = 9\n",
      "3 * 4 = 12\n",
      "3 * 5 = 15\n",
      "3 * 6 = 18\n",
      "3 * 7 = 21\n",
      "3 * 8 = 24\n",
      "3 * 9 = 27\n",
      "3 * 10 = 30\n",
      "\n",
      "Mutiplication table for 4:\n",
      "4 * 1 = 4\n",
      "4 * 2 = 8\n",
      "4 * 3 = 12\n",
      "4 * 4 = 16\n",
      "4 * 5 = 20\n",
      "4 * 6 = 24\n",
      "4 * 7 = 28\n",
      "4 * 8 = 32\n",
      "4 * 9 = 36\n",
      "4 * 10 = 40\n",
      "\n",
      "Mutiplication table for 5:\n",
      "5 * 1 = 5\n",
      "5 * 2 = 10\n",
      "5 * 3 = 15\n",
      "5 * 4 = 20\n",
      "5 * 5 = 25\n",
      "5 * 6 = 30\n",
      "5 * 7 = 35\n",
      "5 * 8 = 40\n",
      "5 * 9 = 45\n",
      "5 * 10 = 50\n"
     ]
    }
   ],
   "source": [
    "def print_multiplication_table():\n",
    "    print(\"multiplication tables:\")\n",
    "    for i in range(1, 6):\n",
    "        print(f\"\\nMutiplication table for {i}:\")\n",
    "        for j in range(1, 11):\n",
    "            result = i * j\n",
    "            print(f\"{i} * {j} = {result}\")\n",
    "\n",
    "print_multiplication_table()"
   ]
  },
  {
   "cell_type": "code",
   "execution_count": 31,
   "metadata": {},
   "outputs": [
    {
     "name": "stdout",
     "output_type": "stream",
     "text": [
      "The factorial of 7 is: 5040\n"
     ]
    }
   ],
   "source": [
    "def factorial(num):\n",
    "\n",
    "    if num < 0:\n",
    "        return None\n",
    "    \n",
    "    result = 1\n",
    "    counter = 1\n",
    "    \n",
    "    while counter <= num:\n",
    "        result *= counter\n",
    "        counter += 1\n",
    "        \n",
    "    return result\n",
    "\n",
    "number = int(input(\"Enter a number: \"))\n",
    "result = factorial(number)\n",
    "\n",
    "if result is not None:\n",
    "    print(f\"The factorial of {number} is: {result}\")\n",
    "else:\n",
    "    print(\"The factorial is not defined for negative numbers.\")"
   ]
  },
  {
   "cell_type": "code",
   "execution_count": 36,
   "metadata": {},
   "outputs": [
    {
     "name": "stdout",
     "output_type": "stream",
     "text": [
      "The number of vowels in the string is: 2\n"
     ]
    }
   ],
   "source": [
    "def count_vowels(input_str):\n",
    "    vowels = \"raunak\"\n",
    "    vowel_count = 0\n",
    "\n",
    "    for char in input_str:\n",
    "        if char in vowels:\n",
    "            vowel_count += 1\n",
    "\n",
    "    return vowel_count\n",
    "\n",
    "input_string = input(\"Enter a string: \")\n",
    "result = count_vowels(input_string)\n",
    "\n",
    "print(f\"The number of vowels in the string is: {result}\")"
   ]
  },
  {
   "cell_type": "code",
   "execution_count": 5,
   "metadata": {},
   "outputs": [
    {
     "name": "stdout",
     "output_type": "stream",
     "text": [
      "64 is a perfect square.\n"
     ]
    }
   ],
   "source": [
    "def is_perfect_square(number):\n",
    "    \n",
    "    if number < 0:\n",
    "        return False\n",
    "    \n",
    "    guess = 0\n",
    "     \n",
    "    while guess * guess <= number:\n",
    "        if guess * guess == number:\n",
    "            return True\n",
    "        guess += 1\n",
    "\n",
    "    return False\n",
    "\n",
    "num = int(input(\"Enter a number\"))\n",
    "result = is_perfect_square(num)\n",
    "\n",
    "if result:\n",
    "    print(f\"{num} is a perfect square.\")\n",
    "else:\n",
    "    print(f\"{num} is not a perfect square. \")\n",
    "\n"
   ]
  },
  {
   "cell_type": "code",
   "execution_count": 10,
   "metadata": {},
   "outputs": [
    {
     "name": "stdout",
     "output_type": "stream",
     "text": [
      "The smallest element in an array is: 2 \n",
      "The largest element in an array is: 89\n"
     ]
    }
   ],
   "source": [
    "def find_largest_and_smallest(arr):\n",
    "\n",
    "    if not arr:\n",
    "        return None, None\n",
    "    \n",
    "    smallest = largest = arr[0]\n",
    "\n",
    "    for num in arr:\n",
    "        if num < smallest:\n",
    "            smallest = num\n",
    "        elif num > largest:\n",
    "            largest = num\n",
    "\n",
    "    return smallest, largest\n",
    "\n",
    "number_list = [32, 45, 4, 2, 12, 7, 31, 6, 78, 2, 89]\n",
    "min_num, max_num = find_largest_and_smallest(number_list)\n",
    "\n",
    "if min_num is not None and max_num is not None:\n",
    "    print(f\"The smallest element in an array is: {min_num} \")\n",
    "    print(f\"The largest element in an array is: {max_num}\")\n",
    "else:\n",
    "    print(\"The array is empty,\")\n",
    "     "
   ]
  },
  {
   "cell_type": "code",
   "execution_count": 11,
   "metadata": {},
   "outputs": [
    {
     "name": "stdout",
     "output_type": "stream",
     "text": [
      "The reversed sentence is: all. it win gonna will Meer \n"
     ]
    }
   ],
   "source": [
    "def reverse_words(sentence):\n",
    "\n",
    "    words = sentence.split()\n",
    "\n",
    "    if not words:\n",
    "        return \"\"\n",
    "    \n",
    "    reversed_sentence = \"\"\n",
    "    index = len(words) - 1\n",
    "\n",
    "    while index >= 0:\n",
    "        reversed_sentence += words[index]\n",
    "        if index > 0:\n",
    "            reversed_sentence += \" \"\n",
    "        index -= 1\n",
    "\n",
    "    return reversed_sentence\n",
    "\n",
    "input_sentence = input(\"Enter s sentence: \")\n",
    "result = reverse_words(input_sentence)\n",
    "\n",
    "print(f\"The reversed sentence is: {result} \")\n"
   ]
  },
  {
   "cell_type": "code",
   "execution_count": null,
   "metadata": {},
   "outputs": [],
   "source": []
  }
 ],
 "metadata": {
  "kernelspec": {
   "display_name": "base",
   "language": "python",
   "name": "python3"
  },
  "language_info": {
   "codemirror_mode": {
    "name": "ipython",
    "version": 3
   },
   "file_extension": ".py",
   "mimetype": "text/x-python",
   "name": "python",
   "nbconvert_exporter": "python",
   "pygments_lexer": "ipython3",
   "version": "3.11.5"
  }
 },
 "nbformat": 4,
 "nbformat_minor": 2
}
