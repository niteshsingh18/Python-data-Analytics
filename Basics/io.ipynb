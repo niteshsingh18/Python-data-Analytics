{
 "cells": [
  {
   "cell_type": "code",
   "execution_count": 27,
   "metadata": {},
   "outputs": [],
   "source": [
    "name = input('Enter your name')"
   ]
  },
  {
   "cell_type": "code",
   "execution_count": 28,
   "metadata": {},
   "outputs": [],
   "source": [
    "college = input( 'Enter your college name' )\n",
    "city = input( 'Enter your city' )"
   ]
  },
  {
   "cell_type": "code",
   "execution_count": 29,
   "metadata": {},
   "outputs": [
    {
     "name": "stdout",
     "output_type": "stream",
     "text": [
      "  c\n"
     ]
    }
   ],
   "source": [
    "print(name, college, city)"
   ]
  },
  {
   "cell_type": "code",
   "execution_count": 4,
   "metadata": {},
   "outputs": [
    {
     "name": "stdout",
     "output_type": "stream",
     "text": [
      "this is an apple it costs 90 rupees\n"
     ]
    }
   ],
   "source": [
    "price = 90\n",
    "qty = 1\n",
    "print('this is an apple', 'it costs', price, 'rupees')"
   ]
  },
  {
   "cell_type": "code",
   "execution_count": 31,
   "metadata": {},
   "outputs": [
    {
     "name": "stdout",
     "output_type": "stream",
     "text": [
      "this is an 🍎. 1 kg costs rupees\n"
     ]
    }
   ],
   "source": [
    "print('this is an 🍎.', qty, 'kg costs', 'rupees')"
   ]
  },
  {
   "cell_type": "code",
   "execution_count": 32,
   "metadata": {},
   "outputs": [
    {
     "data": {
      "text/plain": [
       "'this is an apple. 1 kg costs 90 rupees '"
      ]
     },
     "execution_count": 32,
     "metadata": {},
     "output_type": "execute_result"
    }
   ],
   "source": [
    "f\"this is an apple. {qty} kg costs {price} rupees \""
   ]
  },
  {
   "cell_type": "code",
   "execution_count": 33,
   "metadata": {},
   "outputs": [
    {
     "name": "stdout",
     "output_type": "stream",
     "text": [
      "the answer is 3.33\n",
      "10 / 3= 3.333\n"
     ]
    }
   ],
   "source": [
    "x = 10\n",
    "y = 3\n",
    "z =x/y\n",
    "print(f'the answer is {z:.2f}')\n",
    "print(f'{x} / {y}= {z:.3f}')"
   ]
  },
  {
   "cell_type": "code",
   "execution_count": 34,
   "metadata": {},
   "outputs": [
    {
     "name": "stdout",
     "output_type": "stream",
     "text": [
      "Raj 3 chars\n",
      "Rajan 5 chars\n",
      "rajeshwari 10 chars\n"
     ]
    }
   ],
   "source": [
    "n1, n2, n3 = 'Raj', 'Rajan', 'rajeshwari'\n",
    "print(n1, len(n1), 'chars')\n",
    "print(n2, len(n2), 'chars')\n",
    "print(n3, len(n3), 'chars')"
   ]
  },
  {
   "cell_type": "code",
   "execution_count": 35,
   "metadata": {},
   "outputs": [
    {
     "name": "stdout",
     "output_type": "stream",
     "text": [
      "Raj             5 chars\n",
      "Rajan           5 chars\n",
      "rajeshwari      10 chars\n"
     ]
    }
   ],
   "source": [
    "print(f'{n1:15} {len(n2)} chars')\n",
    "print(f'{n2:15} {len(n2)} chars')\n",
    "print(f'{n3:15} {len(n3)} chars')"
   ]
  },
  {
   "cell_type": "code",
   "execution_count": 36,
   "metadata": {},
   "outputs": [
    {
     "name": "stdout",
     "output_type": "stream",
     "text": [
      "            Raj 5 chars\n",
      "          Rajan 5 chars\n",
      "     rajeshwari 10 chars\n"
     ]
    }
   ],
   "source": [
    "print(f'{n1:>15} {len(n2)} chars')\n",
    "print(f'{n2:>15} {len(n2)} chars')\n",
    "print(f'{n3:>15} {len(n3)} chars')"
   ]
  },
  {
   "cell_type": "code",
   "execution_count": 37,
   "metadata": {},
   "outputs": [
    {
     "name": "stdout",
     "output_type": "stream",
     "text": [
      "      Raj       5 chars\n",
      "     Rajan      5 chars\n",
      "  rajeshwari    10 chars\n"
     ]
    }
   ],
   "source": [
    "print(f'{n1:^15} {len(n2)} chars')\n",
    "print(f'{n2:^15} {len(n2)} chars')\n",
    "print(f'{n3:^15} {len(n3)} chars')"
   ]
  },
  {
   "cell_type": "code",
   "execution_count": 38,
   "metadata": {},
   "outputs": [
    {
     "name": "stdout",
     "output_type": "stream",
     "text": [
      "Raj       5 chars\n",
      "Rajan     5 chars\n",
      "rajeshwari 10 chars\n"
     ]
    }
   ],
   "source": [
    "print(f'{n1:9} {len(n2)} chars')\n",
    "print(f'{n2:9} {len(n2)} chars')\n",
    "print(f'{n3:9} {len(n3)} chars')"
   ]
  },
  {
   "cell_type": "code",
   "execution_count": 39,
   "metadata": {},
   "outputs": [
    {
     "data": {
      "text/plain": [
       "10.0"
      ]
     },
     "execution_count": 39,
     "metadata": {},
     "output_type": "execute_result"
    }
   ],
   "source": [
    "x = 10 # int\n",
    "float(x)"
   ]
  },
  {
   "cell_type": "code",
   "execution_count": 40,
   "metadata": {},
   "outputs": [
    {
     "data": {
      "text/plain": [
       "10.5"
      ]
     },
     "execution_count": 40,
     "metadata": {},
     "output_type": "execute_result"
    }
   ],
   "source": [
    "x = '10.5' # str\n",
    "float(x)"
   ]
  },
  {
   "cell_type": "code",
   "execution_count": 41,
   "metadata": {},
   "outputs": [
    {
     "name": "stdout",
     "output_type": "stream",
     "text": [
      "1000101\n",
      "15\n"
     ]
    }
   ],
   "source": [
    "data = '1000101'\n",
    "print(int(data))\n",
    "data = \"1111\"\n",
    "print(int(data, 2))"
   ]
  },
  {
   "cell_type": "code",
   "execution_count": 43,
   "metadata": {},
   "outputs": [
    {
     "data": {
      "text/plain": [
       "'120310'"
      ]
     },
     "execution_count": 43,
     "metadata": {},
     "output_type": "execute_result"
    }
   ],
   "source": [
    "data = 120310\n",
    "str(data)"
   ]
  },
  {
   "cell_type": "code",
   "execution_count": 50,
   "metadata": {},
   "outputs": [
    {
     "data": {
      "text/plain": [
       "'45669878'"
      ]
     },
     "execution_count": 50,
     "metadata": {},
     "output_type": "execute_result"
    }
   ],
   "source": [
    "a= input('Enter A:')\n",
    "b = input('Enter B:')\n",
    "a + b"
   ]
  },
  {
   "cell_type": "code",
   "execution_count": 52,
   "metadata": {},
   "outputs": [
    {
     "data": {
      "text/plain": [
       "110"
      ]
     },
     "execution_count": 52,
     "metadata": {},
     "output_type": "execute_result"
    }
   ],
   "source": [
    "a = int(input('Enter A:'))\n",
    "b = int(input('Enter B:'))\n",
    "a + b"
   ]
  },
  {
   "cell_type": "markdown",
   "metadata": {},
   "source": [
    "# wap to find out the Simple Intrest, by taking user input for principal, rate and time"
   ]
  },
  {
   "cell_type": "code",
   "execution_count": 59,
   "metadata": {},
   "outputs": [
    {
     "name": "stdout",
     "output_type": "stream",
     "text": [
      "simple intrest 100.0\n"
     ]
    }
   ],
   "source": [
    "principal = 500\n",
    "rate = 10\n",
    "Time = 2\n",
    "print('simple intrest', (principal*rate*Time)/100)"
   ]
  },
  {
   "cell_type": "code",
   "execution_count": 6,
   "metadata": {},
   "outputs": [
    {
     "name": "stdout",
     "output_type": "stream",
     "text": [
      "principal = 500\n",
      "rate = 10.0%\n",
      "years = 10\n",
      "Simple Intrest = 500.00\n"
     ]
    }
   ],
   "source": [
    "principal = int(input('Enter Principal'))\n",
    "rate = float(input('Enter time'))\n",
    "time = int(input('Enter time'))\n",
    "si = principal * rate * time / 100\n",
    "print(f'principal = {principal}')\n",
    "print(f'rate = {rate}%')\n",
    "print(f'years = {time}')\n",
    "print(f'Simple Intrest = {si:.2f}')"
   ]
  },
  {
   "cell_type": "code",
   "execution_count": null,
   "metadata": {},
   "outputs": [],
   "source": []
  }
 ],
 "metadata": {
  "kernelspec": {
   "display_name": "base",
   "language": "python",
   "name": "python3"
  },
  "language_info": {
   "codemirror_mode": {
    "name": "ipython",
    "version": 3
   },
   "file_extension": ".py",
   "mimetype": "text/x-python",
   "name": "python",
   "nbconvert_exporter": "python",
   "pygments_lexer": "ipython3",
   "version": "3.11.5"
  }
 },
 "nbformat": 4,
 "nbformat_minor": 2
}
