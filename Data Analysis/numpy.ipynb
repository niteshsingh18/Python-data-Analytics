{
 "cells": [
  {
   "cell_type": "code",
   "execution_count": 5,
   "metadata": {},
   "outputs": [
    {
     "name": "stdout",
     "output_type": "stream",
     "text": [
      "[3, 5, 7]\n"
     ]
    }
   ],
   "source": [
    "x = [1,2,3]\n",
    "y = [2,3,4]\n",
    "ans = []\n",
    "for a, b in zip(x, y):\n",
    "    v = a + b\n",
    "    ans.append(v)\n",
    "print(ans) "
   ]
  },
  {
   "cell_type": "code",
   "execution_count": 6,
   "metadata": {},
   "outputs": [],
   "source": [
    "x = [1,3], [2,4]\n",
    "y = [2,4], [3,5]"
   ]
  },
  {
   "cell_type": "markdown",
   "metadata": {},
   "source": [
    "number processing library for python - numpy\n",
    "\n",
    "array : it is a list of homogenous elements"
   ]
  },
  {
   "cell_type": "code",
   "execution_count": 7,
   "metadata": {},
   "outputs": [],
   "source": [
    "import numpy as np\n",
    "\n"
   ]
  },
  {
   "cell_type": "code",
   "execution_count": 14,
   "metadata": {},
   "outputs": [
    {
     "name": "stdout",
     "output_type": "stream",
     "text": [
      "[[1 3]\n",
      " [2 4]] + [[2 4]\n",
      " [3 5]] = [[3 7]\n",
      " [5 9]]\n",
      "[[1 3]\n",
      " [2 4]] - [[2 4]\n",
      " [3 5]] = [[-1 -1]\n",
      " [-1 -1]]\n",
      "[[1 3]\n",
      " [2 4]] * [[2 4]\n",
      " [3 5]] = [[ 2 12]\n",
      " [ 6 20]]\n",
      "[[1 3]\n",
      " [2 4]] / [[2 4]\n",
      " [3 5]] = [[0.5        0.75      ]\n",
      " [0.66666667 0.8       ]]\n"
     ]
    }
   ],
   "source": [
    "x = np.array([[1,3], [2,4]])\n",
    "y = np.array([[2,4], [3,5]])\n",
    "print(x,'+',y, '=', x+y)\n",
    "print(x,'-',y, '=', x-y)\n",
    "print(x,'*',y, '=', x*y)\n",
    "print(x,'/',y, '=', x/y)"
   ]
  },
  {
   "cell_type": "code",
   "execution_count": null,
   "metadata": {},
   "outputs": [],
   "source": [
    "x = np.array([1,2,3])\n",
    "y = np.array([2,3,4])\n",
    "print(x,'+',y, '=', x+y)\n",
    "print(x,'-',y, '=', x-y)\n",
    "print(x,'*',y, '=', x*y)\n",
    "print(x,'/',y, '=', x/y)"
   ]
  },
  {
   "cell_type": "markdown",
   "metadata": {},
   "source": [
    "Matrices are:\n",
    "\n",
    "- 1D array\n",
    "- 2D array\n",
    "- 3D array\n",
    "- 4D array\n",
    "- nD array"
   ]
  },
  {
   "cell_type": "code",
   "execution_count": 19,
   "metadata": {},
   "outputs": [
    {
     "name": "stdout",
     "output_type": "stream",
     "text": [
      "[1 2 3] <class 'numpy.ndarray'> (3,) 1\n",
      "[[1 2]\n",
      " [3 4]] <class 'numpy.ndarray'> (2, 2) 2\n"
     ]
    }
   ],
   "source": [
    "x = np.array([1,2,3])\n",
    "print(x, type(x), x.shape, x.ndim)\n",
    "x2 = np.array([[1,2],[3,4]])\n",
    "print(x2, type(x2), x2.shape, x2.ndim)"
   ]
  },
  {
   "cell_type": "code",
   "execution_count": 17,
   "metadata": {},
   "outputs": [
    {
     "name": "stdout",
     "output_type": "stream",
     "text": [
      "[[[1 2]\n",
      "  [3 4]]\n",
      "\n",
      " [[5 6]\n",
      "  [7 8]]] (2, 2, 2) 3 8\n"
     ]
    }
   ],
   "source": [
    "x3 = np.array([[[1,2],[3,4]],[[5,6],[7,8]]])\n",
    "print(x3, x3.shape, x3.ndim, x3.size)"
   ]
  },
  {
   "cell_type": "code",
   "execution_count": 18,
   "metadata": {},
   "outputs": [],
   "source": [
    "# 6 * 6 matrix "
   ]
  },
  {
   "cell_type": "markdown",
   "metadata": {},
   "source": [
    "Matrix generation in numpy\n",
    "- array() # basic\n",
    "- linspace() # range of values with equal gap\n",
    "- logspace() # range of values with equal gap in lg scale\n",
    "- zeros() # array with all zeros\n",
    "- ones() # array with all one\n",
    "- eye() # identity matrix\n",
    "- diag() # diagonal matrix\n",
    "- random.rand() # random matrix of given shape 0 to 1\n",
    "- random.randn() # random matrix of shape from -1 to 1\n",
    "- random.randomint() # random matrix of given shape from given range"
   ]
  },
  {
   "cell_type": "code",
   "execution_count": 22,
   "metadata": {},
   "outputs": [
    {
     "name": "stdout",
     "output_type": "stream",
     "text": [
      "[0 1 2 3 4 5 6 7 8 9]\n",
      "[-10.   -9.5  -9.   -8.5  -8.   -7.5  -7.   -6.5  -6.   -5.5  -5.   -4.5\n",
      "  -4.   -3.5  -3.   -2.5  -2.   -1.5  -1.   -0.5   0.    0.5   1.    1.5\n",
      "   2.    2.5   3.    3.5   4.    4.5   5.    5.5   6.    6.5   7.    7.5\n",
      "   8.    8.5   9.    9.5  10.   10.5]\n",
      "[ 1  3  5  7  9 11 13]\n"
     ]
    }
   ],
   "source": [
    "# arange() function\n",
    "x = np.arange(10)\n",
    "print(x)\n",
    "x1 = np.arange(-10,11,0.5)\n",
    "print(x1)\n",
    "x2 = np.arange(-np.pi, np.pi, 2)\n",
    "x3 = np.arange(1,15,2)\n",
    "print(x3)"
   ]
  },
  {
   "cell_type": "code",
   "execution_count": 23,
   "metadata": {},
   "outputs": [
    {
     "name": "stdout",
     "output_type": "stream",
     "text": [
      "[ 0.          1.11111111  2.22222222  3.33333333  4.44444444  5.55555556\n",
      "  6.66666667  7.77777778  8.88888889 10.        ]\n",
      "[  0.           5.05050505  10.1010101   15.15151515  20.2020202\n",
      "  25.25252525  30.3030303   35.35353535  40.4040404   45.45454545\n",
      "  50.50505051  55.55555556  60.60606061  65.65656566  70.70707071\n",
      "  75.75757576  80.80808081  85.85858586  90.90909091  95.95959596\n",
      " 101.01010101 106.06060606 111.11111111 116.16161616 121.21212121\n",
      " 126.26262626 131.31313131 136.36363636 141.41414141 146.46464646\n",
      " 151.51515152 156.56565657 161.61616162 166.66666667 171.71717172\n",
      " 176.76767677 181.81818182 186.86868687 191.91919192 196.96969697\n",
      " 202.02020202 207.07070707 212.12121212 217.17171717 222.22222222\n",
      " 227.27272727 232.32323232 237.37373737 242.42424242 247.47474747\n",
      " 252.52525253 257.57575758 262.62626263 267.67676768 272.72727273\n",
      " 277.77777778 282.82828283 287.87878788 292.92929293 297.97979798\n",
      " 303.03030303 308.08080808 313.13131313 318.18181818 323.23232323\n",
      " 328.28282828 333.33333333 338.38383838 343.43434343 348.48484848\n",
      " 353.53535354 358.58585859 363.63636364 368.68686869 373.73737374\n",
      " 378.78787879 383.83838384 388.88888889 393.93939394 398.98989899\n",
      " 404.04040404 409.09090909 414.14141414 419.19191919 424.24242424\n",
      " 429.29292929 434.34343434 439.39393939 444.44444444 449.49494949\n",
      " 454.54545455 459.5959596  464.64646465 469.6969697  474.74747475\n",
      " 479.7979798  484.84848485 489.8989899  494.94949495 500.        ]\n"
     ]
    }
   ],
   "source": [
    "x = np.linspace(0, 10, 10) # 5 number of elements\n",
    "print(x)\n",
    "x = np.linspace(0,500,100)\n",
    "print(x)"
   ]
  },
  {
   "cell_type": "code",
   "execution_count": 24,
   "metadata": {},
   "outputs": [
    {
     "name": "stdout",
     "output_type": "stream",
     "text": [
      "[0. 0. 0. 0. 0. 0. 0. 0. 0. 0.]\n",
      "[[0. 0. 0.]\n",
      " [0. 0. 0.]]\n"
     ]
    }
   ],
   "source": [
    "z = np.zeros(10)\n",
    "print(z)\n",
    "z1 = np.zeros((2,3))\n",
    "print(z1)"
   ]
  },
  {
   "cell_type": "code",
   "execution_count": 28,
   "metadata": {},
   "outputs": [
    {
     "name": "stdout",
     "output_type": "stream",
     "text": [
      "[[1. 1. 1. 1. 1.]\n",
      " [1. 1. 1. 1. 1.]\n",
      " [1. 1. 1. 1. 1.]\n",
      " [1. 1. 1. 1. 1.]]\n"
     ]
    }
   ],
   "source": [
    "o = np.ones((4,5))\n",
    "print(o)"
   ]
  },
  {
   "cell_type": "code",
   "execution_count": 32,
   "metadata": {},
   "outputs": [
    {
     "name": "stdout",
     "output_type": "stream",
     "text": [
      "[[1. 0. 0. 0. 0.]\n",
      " [0. 1. 0. 0. 0.]\n",
      " [0. 0. 1. 0. 0.]\n",
      " [0. 0. 0. 1. 0.]\n",
      " [0. 0. 0. 0. 1.]]\n"
     ]
    }
   ],
   "source": [
    "e = np.eye(5)\n",
    "print(e)"
   ]
  },
  {
   "cell_type": "code",
   "execution_count": 31,
   "metadata": {},
   "outputs": [
    {
     "name": "stdout",
     "output_type": "stream",
     "text": [
      "[[1 0 0 0 0]\n",
      " [0 1 0 0 0]\n",
      " [0 0 1 0 0]\n",
      " [0 0 0 1 0]\n",
      " [0 0 0 0 1]]\n"
     ]
    }
   ],
   "source": [
    "e = np.eye(5, dtype=int)\n",
    "print(e)"
   ]
  },
  {
   "cell_type": "code",
   "execution_count": 36,
   "metadata": {},
   "outputs": [
    {
     "data": {
      "text/plain": [
       "array([[-0.47637604,  0.72089822,  0.28461087],\n",
       "       [ 2.38846412,  1.29059277,  0.24280052],\n",
       "       [-1.23177808, -0.02581662,  0.62305931]])"
      ]
     },
     "execution_count": 36,
     "metadata": {},
     "output_type": "execute_result"
    }
   ],
   "source": [
    "np.random.randn(3,3)"
   ]
  },
  {
   "cell_type": "code",
   "execution_count": 37,
   "metadata": {},
   "outputs": [
    {
     "data": {
      "text/plain": [
       "array([[12, 11, 11, 14, 12],\n",
       "       [11, 13, 12, 13, 12],\n",
       "       [13, 13, 11, 13, 14],\n",
       "       [12, 14, 11, 11, 12],\n",
       "       [11, 13, 14, 14, 13]])"
      ]
     },
     "execution_count": 37,
     "metadata": {},
     "output_type": "execute_result"
    }
   ],
   "source": [
    "np.random.randint(11, 15, (5,5))"
   ]
  },
  {
   "cell_type": "markdown",
   "metadata": {},
   "source": [
    "Matrix operations"
   ]
  },
  {
   "cell_type": "markdown",
   "metadata": {},
   "source": []
  }
 ],
 "metadata": {
  "kernelspec": {
   "display_name": "base",
   "language": "python",
   "name": "python3"
  },
  "language_info": {
   "codemirror_mode": {
    "name": "ipython",
    "version": 3
   },
   "file_extension": ".py",
   "mimetype": "text/x-python",
   "name": "python",
   "nbconvert_exporter": "python",
   "pygments_lexer": "ipython3",
   "version": "3.11.5"
  }
 },
 "nbformat": 4,
 "nbformat_minor": 2
}
