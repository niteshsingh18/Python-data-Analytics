{
 "cells": [
  {
   "cell_type": "code",
   "execution_count": 1,
   "metadata": {},
   "outputs": [
    {
     "name": "stdout",
     "output_type": "stream",
     "text": [
      "(1, 2, 3) <class 'tuple'>\n",
      "(1, 2, 3, 4) <class 'tuple'>\n"
     ]
    }
   ],
   "source": [
    "x = (1,2,3)\n",
    "print(x, type(x))\n",
    "y = 1,2,3,4\n",
    "print(y, type(y))"
   ]
  },
  {
   "cell_type": "code",
   "execution_count": 2,
   "metadata": {},
   "outputs": [
    {
     "name": "stdout",
     "output_type": "stream",
     "text": [
      "(10, 20) <class 'tuple'>\n"
     ]
    }
   ],
   "source": [
    "a = 10\n",
    "b = 20\n",
    "x = a, b\n",
    "print(x, type(x))"
   ]
  },
  {
   "cell_type": "code",
   "execution_count": 3,
   "metadata": {},
   "outputs": [
    {
     "name": "stdout",
     "output_type": "stream",
     "text": [
      "1\n",
      "6\n",
      "(3, 4, 5)\n"
     ]
    }
   ],
   "source": [
    "a = (1,2,3,4,5,6)\n",
    "print(a[0])\n",
    "print(a[-1])\n",
    "print(a[2:5])"
   ]
  },
  {
   "cell_type": "code",
   "execution_count": 4,
   "metadata": {},
   "outputs": [
    {
     "name": "stdout",
     "output_type": "stream",
     "text": [
      "5\n",
      "4\n"
     ]
    }
   ],
   "source": [
    "# tuple method\n",
    "\n",
    "a = (11,12,12,14,15,13,13,13,13,13)\n",
    "print(a.count(13))\n",
    "print(a.index(15))"
   ]
  },
  {
   "cell_type": "markdown",
   "metadata": {},
   "source": [
    "# List - Tuple - Set Conversion"
   ]
  },
  {
   "cell_type": "code",
   "execution_count": 5,
   "metadata": {},
   "outputs": [
    {
     "name": "stdout",
     "output_type": "stream",
     "text": [
      "[1, 2, 3, 4, 5, 5] (1, 2, 3, 4, 5, 5)\n",
      "[1, 2, 3, 4, 5, 5] {1, 2, 3, 4, 5} {1, 2, 3, 4, 5}\n",
      "[1, 2, 3, 4, 5] (1, 2, 3, 4, 5)\n"
     ]
    }
   ],
   "source": [
    "xlist = [1,2,3,4,5,5]\n",
    "xtup = tuple(xlist) # list to tuple\n",
    "print(xlist, xtup)\n",
    "xlist2 = list(xtup) # tuple to list\n",
    "xset = set(xtup) # tuple to set\n",
    "xset2 = set(xlist) # list to set\n",
    "print(xlist2, xset, xset2)\n",
    "xlist3 = list(xset) # set to list\n",
    "xtup2 = tuple(xset) # set to tuple\n",
    "print(xlist3, xtup2)  "
   ]
  },
  {
   "cell_type": "markdown",
   "metadata": {},
   "source": [
    "# All these to string"
   ]
  },
  {
   "cell_type": "code",
   "execution_count": 6,
   "metadata": {},
   "outputs": [
    {
     "name": "stdout",
     "output_type": "stream",
     "text": [
      "('h', 'e', 'l', 'l', 'o')\n",
      "['h', 'e', 'l', 'l', 'o']\n",
      "{'o', 'h', 'e', 'l'}\n"
     ]
    }
   ],
   "source": [
    "print(tuple('hello'))\n",
    "print(list('hello'))\n",
    "print(set('hello'))"
   ]
  },
  {
   "cell_type": "markdown",
   "metadata": {},
   "source": [
    "# Set"
   ]
  },
  {
   "cell_type": "code",
   "execution_count": 8,
   "metadata": {},
   "outputs": [
    {
     "name": "stdout",
     "output_type": "stream",
     "text": [
      "{1, 2, 3, 4, 5} <class 'set'>\n",
      "{} <class 'dict'>\n",
      "set() <class 'set'>\n"
     ]
    }
   ],
   "source": [
    "x = {1,2,3,4,5}\n",
    "print(x, type(x))\n",
    "x = {} # empty dict not set (imp)\n",
    "print(x, type(x))\n",
    "x = set() # empty set\n",
    "print(x, type(x))"
   ]
  },
  {
   "cell_type": "code",
   "execution_count": 11,
   "metadata": {},
   "outputs": [
    {
     "name": "stdout",
     "output_type": "stream",
     "text": [
      "{10, 20, 'apple', 'banana'}\n",
      "{10, 20, 'apple', 'banana'}\n"
     ]
    }
   ],
   "source": [
    "x.add(10)\n",
    "x.add(20)\n",
    "x.add(10)\n",
    "print(x)\n",
    "x.add('apple')\n",
    "x.add('banana')\n",
    "print(x)"
   ]
  },
  {
   "cell_type": "code",
   "execution_count": 12,
   "metadata": {},
   "outputs": [
    {
     "name": "stdout",
     "output_type": "stream",
     "text": [
      "{20, 'apple', 'banana'}\n"
     ]
    }
   ],
   "source": [
    "x.discard(10)\n",
    "print(x)"
   ]
  },
  {
   "cell_type": "code",
   "execution_count": 13,
   "metadata": {},
   "outputs": [
    {
     "name": "stdout",
     "output_type": "stream",
     "text": [
      "{1, 2, 3, 'banana', 6, 'apple', 20}\n"
     ]
    }
   ],
   "source": [
    "x.update([1,2,6,3])\n",
    "print(x)"
   ]
  },
  {
   "cell_type": "code",
   "execution_count": 14,
   "metadata": {},
   "outputs": [
    {
     "name": "stdout",
     "output_type": "stream",
     "text": [
      "{1, 2, 3, 4, 5, 6, 7, 8}\n",
      "{1, 2, 3}\n",
      "{1, 2, 3}\n",
      "{4, 5}\n",
      "{1, 2, 3, 6, 7, 8}\n"
     ]
    }
   ],
   "source": [
    "# set operations\n",
    "x = {1,2,3,4,5}\n",
    "y = {4,5,6,7,8}\n",
    "xy =x.union(y) # x / y\n",
    "print(xy)\n",
    "x_y =x.difference(y) # x - y\n",
    "print(x_y)\n",
    "y_x =x.difference(y) # y - x\n",
    "print(y_x)\n",
    "xiy = x.intersection(y) # x & y\n",
    "print(xiy)\n",
    "xuy = x.symmetric_difference(y) # x ^ y (opp. of intersection)\n",
    "print(xuy)"
   ]
  },
  {
   "cell_type": "markdown",
   "metadata": {},
   "source": [
    "# wap to create a set of items given by user and then display those items that contain the letter 'a' in them"
   ]
  },
  {
   "cell_type": "code",
   "execution_count": 17,
   "metadata": {},
   "outputs": [
    {
     "name": "stdout",
     "output_type": "stream",
     "text": [
      "mango\n",
      "banana\n",
      "hazelnut\n",
      "elaichi\n",
      "watermelon\n",
      "guava\n"
     ]
    }
   ],
   "source": [
    "data = set()\n",
    "for i in range(10):\n",
    "    data.add(input('enter the item:'))\n",
    "for i in data:\n",
    "    if 'a' in i:\n",
    "        print(i)"
   ]
  },
  {
   "cell_type": "code",
   "execution_count": null,
   "metadata": {},
   "outputs": [],
   "source": []
  },
  {
   "cell_type": "code",
   "execution_count": null,
   "metadata": {},
   "outputs": [],
   "source": []
  }
 ],
 "metadata": {
  "kernelspec": {
   "display_name": "base",
   "language": "python",
   "name": "python3"
  },
  "language_info": {
   "codemirror_mode": {
    "name": "ipython",
    "version": 3
   },
   "file_extension": ".py",
   "mimetype": "text/x-python",
   "name": "python",
   "nbconvert_exporter": "python",
   "pygments_lexer": "ipython3",
   "version": "3.11.5"
  }
 },
 "nbformat": 4,
 "nbformat_minor": 2
}
