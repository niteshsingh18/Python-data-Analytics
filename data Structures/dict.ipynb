{
 "cells": [
  {
   "cell_type": "code",
   "execution_count": 1,
   "metadata": {},
   "outputs": [],
   "source": [
    "x = [\n",
    "    'rohan',\n",
    "    '5 feet',\n",
    "    18,\n",
    "    'False'\n",
    "    'undergraduate',\n",
    "    'BBA',\n",
    "    'Basketball',\n",
    "    'Chocolate'\n",
    "]"
   ]
  },
  {
   "cell_type": "code",
   "execution_count": 2,
   "metadata": {},
   "outputs": [
    {
     "name": "stdout",
     "output_type": "stream",
     "text": [
      "18\n",
      "Chocolate\n",
      "BBA\n"
     ]
    }
   ],
   "source": [
    "print(x[2])\n",
    "print(x[-1])\n",
    "print(x[-3])"
   ]
  },
  {
   "cell_type": "code",
   "execution_count": 3,
   "metadata": {},
   "outputs": [
    {
     "name": "stdout",
     "output_type": "stream",
     "text": [
      "18\n",
      "Chocolates\n",
      "Basketball\n"
     ]
    }
   ],
   "source": [
    "xd = {'name' : 'rohan', 'height' : '5 ft', 'age' : 18, 'is_married' : False, 'edu_level': 'Undergraduate', 'degree' : 'BBA', 'Hobby' : 'Basketball', 'Fav_food' : 'Chocolates' }\n",
    "\n",
    "print(xd['age'])\n",
    "print(xd['Fav_food'])\n",
    "print(xd['Hobby'])"
   ]
  },
  {
   "cell_type": "code",
   "execution_count": 5,
   "metadata": {},
   "outputs": [
    {
     "name": "stdout",
     "output_type": "stream",
     "text": [
      "{0: 11, 1: 22, 2: 33, 3: 44, 4: 55}\n"
     ]
    }
   ],
   "source": [
    "nums = {}\n",
    "for i in range(5):\n",
    "    value  = int(input('Enter a number'))\n",
    "    nums[i] = value # adds a new {key : value} pair to the dictionary\n",
    "print(nums)"
   ]
  },
  {
   "cell_type": "markdown",
   "metadata": {},
   "source": [
    "# Dictionary\n",
    "\n",
    "- add (no method for adding a single key: value)\n",
    "- remove\n",
    "- get\n",
    "- update\n",
    "- keys\n",
    "- values\n",
    "- items\n"
   ]
  },
  {
   "cell_type": "code",
   "execution_count": 6,
   "metadata": {},
   "outputs": [
    {
     "name": "stdout",
     "output_type": "stream",
     "text": [
      "{0: 'ironman', 1: 'thor', 2: 'loki', 3: 'captain america', 4: 'spiderman'}\n"
     ]
    }
   ],
   "source": [
    "nums = {}\n",
    "for i in range(5):\n",
    "    value  = (input('Enter a number'))\n",
    "    nums[i] = value # adds a new {key : value} pair to the dictionary\n",
    "print(nums)"
   ]
  },
  {
   "cell_type": "code",
   "execution_count": 12,
   "metadata": {},
   "outputs": [
    {
     "data": {
      "text/plain": [
       "{'Animal': 8.4, 'Sam Bahadur': 9.0, 'Fast X': 8.7}"
      ]
     },
     "execution_count": 12,
     "metadata": {},
     "output_type": "execute_result"
    }
   ],
   "source": [
    "movies = {'Animal': 8.4}\n",
    "\n",
    "movies ['Sam Bahadur'] = 9.0\n",
    "movies ['Fast X'] = 8.7\n",
    "movies"
   ]
  },
  {
   "cell_type": "code",
   "execution_count": 13,
   "metadata": {},
   "outputs": [],
   "source": [
    "movies['Animal'] = 7\n",
    "movies['Gangs of Wasseypur'] = 8.1\n",
    "movies['Dream Girl'] = 9.1"
   ]
  },
  {
   "cell_type": "code",
   "execution_count": 16,
   "metadata": {},
   "outputs": [
    {
     "data": {
      "text/plain": [
       "{'Animal': 9.1,\n",
       " 'Sam Bahadur': 9.0,\n",
       " 'Fast X': 8.7,\n",
       " 'Gangs of Wasseypur': 8.1,\n",
       " 'Dream Girl': 9.1,\n",
       " 'Pathaan': 8.9,\n",
       " 'Jawaan': 8.2}"
      ]
     },
     "execution_count": 16,
     "metadata": {},
     "output_type": "execute_result"
    }
   ],
   "source": [
    "for i in range(3):\n",
    "    key = input('Enter a movie')\n",
    "    value = float(input('Enter the rating'))\n",
    "    movies[key] = value\n",
    "movies"
   ]
  },
  {
   "cell_type": "code",
   "execution_count": 19,
   "metadata": {},
   "outputs": [
    {
     "data": {
      "text/plain": [
       "8.7"
      ]
     },
     "execution_count": 19,
     "metadata": {},
     "output_type": "execute_result"
    }
   ],
   "source": [
    "movies.pop('Fast X') # remove the key: value pair\n"
   ]
  },
  {
   "cell_type": "code",
   "execution_count": 18,
   "metadata": {},
   "outputs": [
    {
     "data": {
      "text/plain": [
       "{'Animal': 9.1,\n",
       " 'Sam Bahadur': 9.0,\n",
       " 'Fast X': 8.7,\n",
       " 'Gangs of Wasseypur': 8.1,\n",
       " 'Dream Girl': 9.1,\n",
       " 'Pathaan': 8.9,\n",
       " 'Jawaan': 8.2}"
      ]
     },
     "execution_count": 18,
     "metadata": {},
     "output_type": "execute_result"
    }
   ],
   "source": [
    "movies"
   ]
  },
  {
   "cell_type": "code",
   "execution_count": 20,
   "metadata": {},
   "outputs": [
    {
     "data": {
      "text/plain": [
       "('Jawaan', 8.2)"
      ]
     },
     "execution_count": 20,
     "metadata": {},
     "output_type": "execute_result"
    }
   ],
   "source": [
    "movies.popitem() # removes the last key: value pair "
   ]
  },
  {
   "cell_type": "code",
   "execution_count": 21,
   "metadata": {},
   "outputs": [
    {
     "data": {
      "text/plain": [
       "{'Animal': 9.1,\n",
       " 'Sam Bahadur': 9.0,\n",
       " 'Gangs of Wasseypur': 8.1,\n",
       " 'Dream Girl': 9.1,\n",
       " 'Pathaan': 8.9}"
      ]
     },
     "execution_count": 21,
     "metadata": {},
     "output_type": "execute_result"
    }
   ],
   "source": [
    "movies"
   ]
  },
  {
   "cell_type": "code",
   "execution_count": 29,
   "metadata": {},
   "outputs": [
    {
     "name": "stdout",
     "output_type": "stream",
     "text": [
      "9.1\n"
     ]
    },
    {
     "ename": "KeyError",
     "evalue": "'Dream girl'",
     "output_type": "error",
     "traceback": [
      "\u001b[1;31m---------------------------------------------------------------------------\u001b[0m",
      "\u001b[1;31mKeyError\u001b[0m                                  Traceback (most recent call last)",
      "Cell \u001b[1;32mIn[29], line 2\u001b[0m\n\u001b[0;32m      1\u001b[0m \u001b[38;5;28mprint\u001b[39m(movies[\u001b[38;5;124m'\u001b[39m\u001b[38;5;124mDream Girl\u001b[39m\u001b[38;5;124m'\u001b[39m])\n\u001b[1;32m----> 2\u001b[0m \u001b[38;5;28mprint\u001b[39m(movies[\u001b[38;5;124m'\u001b[39m\u001b[38;5;124mDream girl\u001b[39m\u001b[38;5;124m'\u001b[39m])\n",
      "\u001b[1;31mKeyError\u001b[0m: 'Dream girl'"
     ]
    }
   ],
   "source": [
    "print(movies['Dream Girl'])\n",
    "print(movies['Dream girl'])"
   ]
  },
  {
   "cell_type": "code",
   "execution_count": 24,
   "metadata": {},
   "outputs": [
    {
     "name": "stdout",
     "output_type": "stream",
     "text": [
      "9.1\n"
     ]
    }
   ],
   "source": [
    "print(movies.get('Dream Girl'))"
   ]
  },
  {
   "cell_type": "code",
   "execution_count": 26,
   "metadata": {},
   "outputs": [
    {
     "name": "stdout",
     "output_type": "stream",
     "text": [
      "None\n"
     ]
    }
   ],
   "source": [
    "print(movies.get('Dream girl'))"
   ]
  },
  {
   "cell_type": "code",
   "execution_count": 27,
   "metadata": {},
   "outputs": [
    {
     "name": "stdout",
     "output_type": "stream",
     "text": [
      "9.1\n",
      "not found\n"
     ]
    }
   ],
   "source": [
    "print(movies.get('Dream Girl', 'not found'))\n",
    "print(movies.get('Dream irl', 'not found'))"
   ]
  },
  {
   "cell_type": "code",
   "execution_count": 30,
   "metadata": {},
   "outputs": [
    {
     "name": "stdout",
     "output_type": "stream",
     "text": [
      "Animal\n",
      "Sam Bahadur\n",
      "Gangs of Wasseypur\n",
      "Dream Girl\n",
      "Pathaan\n"
     ]
    }
   ],
   "source": [
    "for i in movies:\n",
    "    print(i)"
   ]
  },
  {
   "cell_type": "code",
   "execution_count": 31,
   "metadata": {},
   "outputs": [
    {
     "data": {
      "text/plain": [
       "dict_keys(['Animal', 'Sam Bahadur', 'Gangs of Wasseypur', 'Dream Girl', 'Pathaan'])"
      ]
     },
     "execution_count": 31,
     "metadata": {},
     "output_type": "execute_result"
    }
   ],
   "source": [
    "movies.keys()"
   ]
  },
  {
   "cell_type": "code",
   "execution_count": 32,
   "metadata": {},
   "outputs": [
    {
     "data": {
      "text/plain": [
       "dict_values([9.1, 9.0, 8.1, 9.1, 8.9])"
      ]
     },
     "execution_count": 32,
     "metadata": {},
     "output_type": "execute_result"
    }
   ],
   "source": [
    "movies.values()"
   ]
  },
  {
   "cell_type": "code",
   "execution_count": 33,
   "metadata": {},
   "outputs": [
    {
     "data": {
      "text/plain": [
       "dict_items([('Animal', 9.1), ('Sam Bahadur', 9.0), ('Gangs of Wasseypur', 8.1), ('Dream Girl', 9.1), ('Pathaan', 8.9)])"
      ]
     },
     "execution_count": 33,
     "metadata": {},
     "output_type": "execute_result"
    }
   ],
   "source": [
    "movies.items()"
   ]
  },
  {
   "cell_type": "code",
   "execution_count": 3,
   "metadata": {},
   "outputs": [
    {
     "ename": "NameError",
     "evalue": "name 'movies' is not defined",
     "output_type": "error",
     "traceback": [
      "\u001b[1;31m---------------------------------------------------------------------------\u001b[0m",
      "\u001b[1;31mNameError\u001b[0m                                 Traceback (most recent call last)",
      "Cell \u001b[1;32mIn[3], line 1\u001b[0m\n\u001b[1;32m----> 1\u001b[0m \u001b[38;5;28;01mfor\u001b[39;00m i \u001b[38;5;129;01min\u001b[39;00m movies\u001b[38;5;241m.\u001b[39mitems():\n\u001b[0;32m      2\u001b[0m     \u001b[38;5;28mprint\u001b[39m(i)\n",
      "\u001b[1;31mNameError\u001b[0m: name 'movies' is not defined"
     ]
    }
   ],
   "source": [
    "for i in movies.items():\n",
    "    print(i)"
   ]
  },
  {
   "cell_type": "code",
   "execution_count": 35,
   "metadata": {},
   "outputs": [
    {
     "name": "stdout",
     "output_type": "stream",
     "text": [
      "Animal 9.1\n",
      "Sam Bahadur 9.0\n",
      "Gangs of Wasseypur 8.1\n",
      "Dream Girl 9.1\n",
      "Pathaan 8.9\n"
     ]
    }
   ],
   "source": [
    "for k, v in movies.items():\n",
    "    print(k, v)"
   ]
  },
  {
   "cell_type": "code",
   "execution_count": 2,
   "metadata": {},
   "outputs": [
    {
     "ename": "NameError",
     "evalue": "name 'movies' is not defined",
     "output_type": "error",
     "traceback": [
      "\u001b[1;31m---------------------------------------------------------------------------\u001b[0m",
      "\u001b[1;31mNameError\u001b[0m                                 Traceback (most recent call last)",
      "Cell \u001b[1;32mIn[2], line 1\u001b[0m\n\u001b[1;32m----> 1\u001b[0m \u001b[38;5;28;01mfor\u001b[39;00m k, v \u001b[38;5;129;01min\u001b[39;00m movies\u001b[38;5;241m.\u001b[39mitems():\n\u001b[0;32m      2\u001b[0m     \u001b[38;5;28mprint\u001b[39m(\u001b[38;5;124mf\u001b[39m\u001b[38;5;124m'\u001b[39m\u001b[38;5;132;01m{\u001b[39;00mk\u001b[38;5;132;01m:\u001b[39;00m\u001b[38;5;124m20\u001b[39m\u001b[38;5;132;01m}\u001b[39;00m\u001b[38;5;132;01m{\u001b[39;00mv\u001b[38;5;132;01m:\u001b[39;00m\u001b[38;5;124m.1f\u001b[39m\u001b[38;5;132;01m}\u001b[39;00m\u001b[38;5;124m'\u001b[39m)\n",
      "\u001b[1;31mNameError\u001b[0m: name 'movies' is not defined"
     ]
    }
   ],
   "source": [
    "for k, v in movies.items():\n",
    "    print(f'{k:20}{v:.1f}')"
   ]
  },
  {
   "cell_type": "code",
   "execution_count": null,
   "metadata": {},
   "outputs": [],
   "source": []
  }
 ],
 "metadata": {
  "kernelspec": {
   "display_name": "base",
   "language": "python",
   "name": "python3"
  },
  "language_info": {
   "codemirror_mode": {
    "name": "ipython",
    "version": 3
   },
   "file_extension": ".py",
   "mimetype": "text/x-python",
   "name": "python",
   "nbconvert_exporter": "python",
   "pygments_lexer": "ipython3",
   "version": "3.11.5"
  }
 },
 "nbformat": 4,
 "nbformat_minor": 2
}
