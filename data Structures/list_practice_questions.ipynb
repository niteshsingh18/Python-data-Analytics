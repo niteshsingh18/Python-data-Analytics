{
 "cells": [
  {
   "cell_type": "code",
   "execution_count": null,
   "metadata": {},
   "outputs": [],
   "source": [
    "x = []\n",
    "for i in range(5):\n",
    "    x.append(input('Enter integers'))\n",
    "print(x)"
   ]
  },
  {
   "cell_type": "code",
   "execution_count": 6,
   "metadata": {},
   "outputs": [
    {
     "name": "stdout",
     "output_type": "stream",
     "text": [
      "Final list: [5, 6, 4, 8, 9]\n"
     ]
    }
   ],
   "source": [
    "def main():\n",
    "    # Create an empty list\n",
    "    my_list = []\n",
    "\n",
    "    # Ask the user for input\n",
    "    while True:\n",
    "        user_input = input(\"Enter an integer (or 'done' to finish): \")\n",
    "        if user_input.lower() == 'done':\n",
    "            break\n",
    "        try:\n",
    "            # Convert the user input to an integer and add it to the list\n",
    "            num = int(user_input)\n",
    "            my_list.append(num)\n",
    "        except ValueError:\n",
    "            print(\"Please enter a valid integer!\")\n",
    "\n",
    "    # Print the final list\n",
    "    print(\"Final list:\", my_list)\n",
    "\n",
    "if __name__ == \"__main__\":\n",
    "    main()\n"
   ]
  },
  {
   "cell_type": "code",
   "execution_count": 8,
   "metadata": {},
   "outputs": [
    {
     "name": "stdout",
     "output_type": "stream",
     "text": [
      "Please enter a valid integer.\n"
     ]
    }
   ],
   "source": [
    "def main():\n",
    "    # Create a list of integers\n",
    "    my_list = [1, 3, 5, 7, 9]\n",
    "\n",
    "    # Ask the user to input an integer to check\n",
    "    try:\n",
    "        num_to_check = int(input(\"Enter an integer to check if it exists in the list: \"))\n",
    "\n",
    "        # Check if the entered integer exists in the list\n",
    "        if num_to_check in my_list:\n",
    "            print(f\"The integer {num_to_check} exists in the list.\")\n",
    "        else:\n",
    "            print(f\"The integer {num_to_check} does not exist in the list.\")\n",
    "    except ValueError:\n",
    "        print(\"Please enter a valid integer.\")\n",
    "\n",
    "if __name__ == \"__main__\":\n",
    "    main()\n"
   ]
  },
  {
   "cell_type": "code",
   "execution_count": 9,
   "metadata": {},
   "outputs": [
    {
     "name": "stdout",
     "output_type": "stream",
     "text": [
      "Sorted list: ['apple', 'banana', 'grape', 'kiwi', 'orange']\n"
     ]
    }
   ],
   "source": [
    "def main():\n",
    "    # Create a list of strings\n",
    "    my_list = [\"banana\", \"apple\", \"orange\", \"grape\", \"kiwi\"]\n",
    "\n",
    "    # Sort the list alphabetically\n",
    "    sorted_list = sorted(my_list)\n",
    "\n",
    "    # Print the sorted list\n",
    "    print(\"Sorted list:\", sorted_list)\n",
    "\n",
    "if __name__ == \"__main__\":\n",
    "    main()\n"
   ]
  },
  {
   "cell_type": "code",
   "execution_count": 10,
   "metadata": {},
   "outputs": [
    {
     "name": "stdout",
     "output_type": "stream",
     "text": [
      "Maximum value in the list: 12\n"
     ]
    }
   ],
   "source": [
    "def main():\n",
    "    # Create a list of integers\n",
    "    my_list = [5, 8, 3, 12, 7, 10]\n",
    "\n",
    "    # Find the maximum value in the list\n",
    "    max_value = max(my_list)\n",
    "\n",
    "    # Print the maximum value\n",
    "    print(\"Maximum value in the list:\", max_value)\n",
    "\n",
    "if __name__ == \"__main__\":\n",
    "    main()\n"
   ]
  },
  {
   "cell_type": "code",
   "execution_count": 1,
   "metadata": {},
   "outputs": [
    {
     "name": "stdout",
     "output_type": "stream",
     "text": [
      "{2, 4, 6}\n"
     ]
    }
   ],
   "source": [
    "list_1 = [1,2,3,4,5,6]\n",
    "list_2 = [2,4,6,8,0]\n",
    "\n",
    "x = set(list_1).intersection(list_2)\n",
    "print(x)"
   ]
  },
  {
   "cell_type": "code",
   "execution_count": 4,
   "metadata": {},
   "outputs": [
    {
     "name": "stdout",
     "output_type": "stream",
     "text": [
      "Final list:  ['attack', 'parent, crawled', 'tax']\n"
     ]
    }
   ],
   "source": [
    "string_list = ['apple', 'attack', 'parent, crawled', 'tax', 'clap']\n",
    "\n",
    "x = 'ap'\n",
    "\n",
    "y = [string for string in string_list if x not in string]\n",
    "\n",
    "print('Final list: ',y)"
   ]
  },
  {
   "cell_type": "code",
   "execution_count": 16,
   "metadata": {},
   "outputs": [
    {
     "name": "stdout",
     "output_type": "stream",
     "text": [
      "accessed element:  1\n"
     ]
    }
   ],
   "source": [
    "nested_list = [[2,4,6],[1,6,8],[5,1,0]]\n",
    "\n",
    "elemnts = nested_list[2][1]\n",
    "\n",
    "print('accessed element: ', elemnts)"
   ]
  },
  {
   "cell_type": "code",
   "execution_count": 17,
   "metadata": {},
   "outputs": [
    {
     "name": "stdout",
     "output_type": "stream",
     "text": [
      "Final list without duplicates: [1, 2, 3, 4, 5, 6, 7, 8, 9]\n"
     ]
    }
   ],
   "source": [
    "# Create a list of integers with duplicates\n",
    "integer_list = [1, 2, 3, 4, 2, 5, 6, 3, 7, 8, 9, 1]\n",
    "\n",
    "# Remove duplicates using set\n",
    "unique_integers = list(set(integer_list))\n",
    "\n",
    "# Print the final list without duplicates\n",
    "print(\"Final list without duplicates:\", unique_integers)\n"
   ]
  },
  {
   "cell_type": "code",
   "execution_count": 2,
   "metadata": {},
   "outputs": [
    {
     "name": "stdout",
     "output_type": "stream",
     "text": [
      "The longest string:  strawberry\n"
     ]
    }
   ],
   "source": [
    "def find_longest_string(strings):\n",
    "    longest = \"\"\n",
    "    for string in strings:\n",
    "        if len(string) > len(longest):\n",
    "            longest = string\n",
    "    return longest\n",
    "\n",
    "def main():\n",
    "    string_list = [\"apple\", \"banana\", \"orange\", \"strawberry\", \"kiwi\"]\n",
    "    longest_string = find_longest_string(string_list)\n",
    "    \n",
    "    print(\"The longest string: \", longest_string)\n",
    "\n",
    "if __name__ == \"__main__\":\n",
    "    main()"
   ]
  },
  {
   "cell_type": "code",
   "execution_count": 8,
   "metadata": {},
   "outputs": [
    {
     "name": "stdout",
     "output_type": "stream",
     "text": [
      "The sum of even numbers is: 30\n"
     ]
    }
   ],
   "source": [
    "def sum_even_numbers(numbers):\n",
    "    sum_even = 0\n",
    "    for num in numbers:\n",
    "        if num % 2 == 0:\n",
    "            sum_even += num\n",
    "    return sum_even\n",
    "\n",
    "def main():\n",
    "    numbers = [1,2,3,4,5,6,7,8,9,10]\n",
    "    \n",
    "    even_sum = sum_even_numbers(numbers)\n",
    "    \n",
    "    print(\"The sum of even numbers is:\", even_sum)\n",
    "\n",
    "if __name__ == '__main__':\n",
    "    main()"
   ]
  },
  {
   "cell_type": "code",
   "execution_count": 18,
   "metadata": {},
   "outputs": [
    {
     "name": "stdout",
     "output_type": "stream",
     "text": [
      "Initial list: [1, 2, 3, 4, 5]\n",
      "Final list:  [1, 2, 4, 5]\n"
     ]
    }
   ],
   "source": [
    "def main():\n",
    "\n",
    "    numbers = [1,2,3,4,5]\n",
    "\n",
    "    print(\"Initial list:\", numbers)\n",
    "\n",
    "    position = int(input(\"Enter the position (0-indexed) of the element to remove: \"))\n",
    "\n",
    "    if position < 0 or position >= len(numbers):\n",
    "        print(\"Invalid position. Please enter a position within the range of the list.\")\n",
    "    else:\n",
    "\n",
    "        del numbers[position]\n",
    "        print(\"Final list: \", numbers)\n",
    "\n",
    "if __name__ == \"__main__\":\n",
    "    main()"
   ]
  },
  {
   "cell_type": "code",
   "execution_count": 19,
   "metadata": {},
   "outputs": [
    {
     "name": "stdout",
     "output_type": "stream",
     "text": [
      "Final String:  Hello, world!\n"
     ]
    }
   ],
   "source": [
    "def concatenate_strings(string_list):\n",
    "\n",
    "    final_string = \"\".join(string_list)\n",
    "    return final_string\n",
    "\n",
    "def main():\n",
    "\n",
    "    string_list = [\"Hello\", \", \", \"world\", \"!\"]\n",
    "\n",
    "    final_string = concatenate_strings(string_list)\n",
    "\n",
    "    print(\"Final String: \", final_string)\n",
    "\n",
    "if __name__ == \"__main__\":\n",
    "    main()"
   ]
  },
  {
   "cell_type": "code",
   "execution_count": 24,
   "metadata": {},
   "outputs": [
    {
     "name": "stdout",
     "output_type": "stream",
     "text": [
      "Median:  6.5\n"
     ]
    }
   ],
   "source": [
    "def find_median(numbers):\n",
    "    numbers.sort()\n",
    "    mid_index = len(numbers) // 2\n",
    "\n",
    "    if len(numbers) % 2 != 0:\n",
    "        return numbers[mid_index]\n",
    "    else:\n",
    "        return numbers[mid_index - 1] + (numbers[mid_index]) / 2\n",
    "    \n",
    "def main():\n",
    "\n",
    "    numbers = [7,3,1,5,9,2,4,6,8,2]\n",
    "\n",
    "    median = find_median(numbers)\n",
    "\n",
    "    print(\"Median: \", median)\n",
    "\n",
    "if __name__ == \"__main__\":\n",
    "    main()"
   ]
  },
  {
   "cell_type": "code",
   "execution_count": 1,
   "metadata": {},
   "outputs": [
    {
     "name": "stdout",
     "output_type": "stream",
     "text": [
      "Reverse string is  ['Mussorie', 'Pune', 'Lucknow', 'Delhi', 'Bombay']\n"
     ]
    }
   ],
   "source": [
    "strings = [\"Bombay\", \"Delhi\", \"Lucknow\", \"Pune\", \"Mussorie\"]\n",
    "\n",
    "reversed_string = strings[::-1]\n",
    "\n",
    "print(\"Reverse string is \", reversed_string)"
   ]
  },
  {
   "cell_type": "code",
   "execution_count": 2,
   "metadata": {},
   "outputs": [
    {
     "name": "stdout",
     "output_type": "stream",
     "text": [
      "average:  4.0\n"
     ]
    }
   ],
   "source": [
    "integer_list = [1,2,3,4,5,6,7]\n",
    "\n",
    "sum_integers = sum(integer_list)\n",
    "\n",
    "average = sum_integers/len(integer_list)\n",
    "\n",
    "print(\"average: \", average)"
   ]
  },
  {
   "cell_type": "code",
   "execution_count": 3,
   "metadata": {},
   "outputs": [
    {
     "name": "stdout",
     "output_type": "stream",
     "text": [
      "Index of 30 : 2\n"
     ]
    }
   ],
   "source": [
    "# Create a list of integers\n",
    "integer_list = [10, 20, 30, 40, 50]\n",
    "\n",
    "# Specify the element to find\n",
    "element_to_find = 30\n",
    "\n",
    "try:\n",
    "    # Find the index of the element\n",
    "    index = integer_list.index(element_to_find)\n",
    "    print(\"Index of\", element_to_find, \":\", index)\n",
    "except ValueError:\n",
    "    print(\"Element\", element_to_find, \"not found in the list.\")\n"
   ]
  },
  {
   "cell_type": "code",
   "execution_count": 6,
   "metadata": {},
   "outputs": [
    {
     "name": "stdout",
     "output_type": "stream",
     "text": [
      "Final list without whitespace: ['lolathelocal', 'tweetypretty', 'silvastrewhostutter', 'bunnynaina', 'grannynanny']\n"
     ]
    }
   ],
   "source": [
    "string_list = [\"lola the local\", \"tweety pretty\", \"silvastre who stutter\", \"bunny naina\", \"granny nanny\"]\n",
    "\n",
    "string_list_without_whitespace = [string.replace(\" \", \"\") for string in string_list]\n",
    "\n",
    "print(\"Final list without whitespace:\", string_list_without_whitespace)"
   ]
  },
  {
   "cell_type": "code",
   "execution_count": 9,
   "metadata": {},
   "outputs": [
    {
     "name": "stdout",
     "output_type": "stream",
     "text": [
      "Sorted list in descending order: [9, 8, 5, 3, 2, 1]\n"
     ]
    }
   ],
   "source": [
    "# Create a list of integers\n",
    "integer_list = [5, 2, 8, 1, 9, 3]\n",
    "\n",
    "# Sort the list in descending order\n",
    "integer_list.sort(reverse=True)\n",
    "\n",
    "# Print the sorted list\n",
    "print(\"Sorted list in descending order:\", integer_list)\n"
   ]
  },
  {
   "cell_type": "code",
   "execution_count": 10,
   "metadata": {},
   "outputs": [
    {
     "name": "stdout",
     "output_type": "stream",
     "text": [
      "Final list:  [8, 1, 2, 3, 4, 5]\n"
     ]
    }
   ],
   "source": [
    "integer_list = [1,2,3,4,5]\n",
    "\n",
    "new_value = int(input(\"Enter a value to add to the list: \"))\n",
    "\n",
    "integer_list.insert(0, new_value)\n",
    "\n",
    "print(\"Final list: \", integer_list)"
   ]
  },
  {
   "cell_type": "code",
   "execution_count": 11,
   "metadata": {},
   "outputs": [
    {
     "name": "stdout",
     "output_type": "stream",
     "text": [
      "Final list after concatenation: [1, 2, 3, 4, 5, 6]\n"
     ]
    }
   ],
   "source": [
    "# Create two lists of integers\n",
    "list1 = [1, 2, 3]\n",
    "list2 = [4, 5, 6]\n",
    "\n",
    "# Concatenate the two lists\n",
    "concatenated_list = list1 + list2\n",
    "\n",
    "# Print the final list\n",
    "print(\"Final list after concatenation:\", concatenated_list)"
   ]
  },
  {
   "cell_type": "code",
   "execution_count": null,
   "metadata": {},
   "outputs": [],
   "source": [
    "Input_list = input(\"Enter the list of integers seperated by spaces\").split\n",
    "\n"
   ]
  }
 ],
 "metadata": {
  "kernelspec": {
   "display_name": "base",
   "language": "python",
   "name": "python3"
  },
  "language_info": {
   "codemirror_mode": {
    "name": "ipython",
    "version": 3
   },
   "file_extension": ".py",
   "mimetype": "text/x-python",
   "name": "python",
   "nbconvert_exporter": "python",
   "pygments_lexer": "ipython3",
   "version": "3.11.5"
  }
 },
 "nbformat": 4,
 "nbformat_minor": 2
}
