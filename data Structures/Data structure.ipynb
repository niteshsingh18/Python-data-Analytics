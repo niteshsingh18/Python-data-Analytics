{
 "cells": [
  {
   "cell_type": "markdown",
   "metadata": {},
   "source": [
    "# data structures in python\n",
    "- list\n",
    "    - indexed, ordered, **mutable**, allow duplicate members, '[ ]'\n",
    "\n",
    "- tuple\n",
    "    - indexed, ordered, **immutable**, allow duplicate members, '(  )'\n",
    "\n",
    "- set\n",
    "    - unindexed, **unordered**, mutable, **unique values only**, '{ }'\n",
    "\n",
    "- dict\n",
    "    - **ordered**, mutable, **unique keys only**, **allow duplicate members**, '{key : values}'"
   ]
  },
  {
   "cell_type": "code",
   "execution_count": null,
   "metadata": {},
   "outputs": [],
   "source": []
  }
 ],
 "metadata": {
  "kernelspec": {
   "display_name": "base",
   "language": "python",
   "name": "python3"
  },
  "language_info": {
   "codemirror_mode": {
    "name": "ipython",
    "version": 3
   },
   "file_extension": ".py",
   "mimetype": "text/x-python",
   "name": "python",
   "nbconvert_exporter": "python",
   "pygments_lexer": "ipython3",
   "version": "3.11.5"
  }
 },
 "nbformat": 4,
 "nbformat_minor": 2
}
