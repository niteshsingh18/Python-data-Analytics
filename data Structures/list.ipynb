{
 "cells": [
  {
   "cell_type": "markdown",
   "metadata": {},
   "source": [
    "# data structures in python\n",
    "every data structure is heterogenous (mixed data)\n",
    "\n",
    "- list\n",
    "    - indexed, ordered, **mutable**, allow duplicate members, '[ ]'\n",
    "\n",
    "- tuple\n",
    "    - indexed, ordered, **immutable**, allow duplicate members, '(  )'\n",
    "\n",
    "- set\n",
    "    - unindexed, **unordered**, mutable, **unique values only**, '{ }'\n",
    "\n",
    "- dict\n",
    "    - **ordered**, mutable, **unique keys only**, **allow duplicate members**, '{key : values}'"
   ]
  },
  {
   "cell_type": "markdown",
   "metadata": {},
   "source": [
    "# list\n",
    "\n",
    "- creating\n",
    "- indexing and slicing\n",
    "- methods\n",
    "- traversal"
   ]
  },
  {
   "cell_type": "code",
   "execution_count": 1,
   "metadata": {},
   "outputs": [],
   "source": [
    "x = [] # empty list\n",
    "a = [1,2,3,4,5] # list of integers\n",
    "names = ['Alex', 'Arti', 'Anupam'] # list of strings\n",
    "mixed = [1, 'Alex', 2, 'Arti'] # list of mixed data types\n",
    "nested = [1, [2, 3], 4] # nested list\n"
   ]
  },
  {
   "cell_type": "code",
   "execution_count": 3,
   "metadata": {},
   "outputs": [
    {
     "name": "stdout",
     "output_type": "stream",
     "text": [
      "[[1, 2, 3], [1, 2, 3], [1, 2, 3]]\n",
      "[1, 2, 3, 1, 2, 3, 1, 2, 3, 1, 2, 3, 1, 2, 3]\n",
      "[1, 1, 1, 1, 1, 1, 1, 1, 1, 1]\n"
     ]
    }
   ],
   "source": [
    "# creating a duplicate list\n",
    "\n",
    "a = [1, 2, 3]\n",
    "b = [a, a, a]\n",
    "print(b)\n",
    "# another way to create duplicate list withou nesting\n",
    "c = a * 5\n",
    "print(c)\n",
    "# another one\n",
    "d = [1] * 10\n",
    "print(d)"
   ]
  },
  {
   "cell_type": "code",
   "execution_count": 4,
   "metadata": {},
   "outputs": [
    {
     "name": "stdout",
     "output_type": "stream",
     "text": [
      "1\n",
      "10\n",
      "[1, 2, 3, 4, 5]\n"
     ]
    },
    {
     "ename": "TypeError",
     "evalue": "list indices must be integers or slices, not tuple",
     "output_type": "error",
     "traceback": [
      "\u001b[1;31m---------------------------------------------------------------------------\u001b[0m",
      "\u001b[1;31mTypeError\u001b[0m                                 Traceback (most recent call last)",
      "\u001b[1;32mc:\\Users\\Dell\\Documents\\Python data Analytics\\data Structures\\list.ipynb Cell 5\u001b[0m line \u001b[0;36m5\n\u001b[0;32m      <a href='vscode-notebook-cell:/c%3A/Users/Dell/Documents/Python%20data%20Analytics/data%20Structures/list.ipynb#W6sZmlsZQ%3D%3D?line=2'>3</a>\u001b[0m \u001b[39mprint\u001b[39m(numbers[\u001b[39m-\u001b[39m\u001b[39m1\u001b[39m]) \u001b[39m# last elements\u001b[39;00m\n\u001b[0;32m      <a href='vscode-notebook-cell:/c%3A/Users/Dell/Documents/Python%20data%20Analytics/data%20Structures/list.ipynb#W6sZmlsZQ%3D%3D?line=3'>4</a>\u001b[0m \u001b[39mprint\u001b[39m(numbers[:\u001b[39m5\u001b[39m]) \u001b[39m# first five elements\u001b[39;00m\n\u001b[1;32m----> <a href='vscode-notebook-cell:/c%3A/Users/Dell/Documents/Python%20data%20Analytics/data%20Structures/list.ipynb#W6sZmlsZQ%3D%3D?line=4'>5</a>\u001b[0m \u001b[39mprint\u001b[39m(numbers[\u001b[39m-\u001b[39m\u001b[39m5\u001b[39m,:]) \u001b[39m# last five elements\u001b[39;00m\n\u001b[0;32m      <a href='vscode-notebook-cell:/c%3A/Users/Dell/Documents/Python%20data%20Analytics/data%20Structures/list.ipynb#W6sZmlsZQ%3D%3D?line=5'>6</a>\u001b[0m \u001b[39mprint\u001b[39m(numbers[\u001b[39m1\u001b[39m::]) \u001b[39m# odd indexed elements\u001b[39;00m\n\u001b[0;32m      <a href='vscode-notebook-cell:/c%3A/Users/Dell/Documents/Python%20data%20Analytics/data%20Structures/list.ipynb#W6sZmlsZQ%3D%3D?line=6'>7</a>\u001b[0m \u001b[39mprint\u001b[39m(numbers[::\u001b[39m2\u001b[39m]) \u001b[39m# even indexed elements\u001b[39;00m\n",
      "\u001b[1;31mTypeError\u001b[0m: list indices must be integers or slices, not tuple"
     ]
    }
   ],
   "source": [
    "numbers = [1,2,3,4,5,6,7,8,9,10]\n",
    "print(numbers[0]) # first element\n",
    "print(numbers[-1]) # last elements\n",
    "print(numbers[:5]) # first five elements\n",
    "print(numbers[-5,:]) # last five elements\n",
    "print(numbers[1::]) # odd indexed elements\n",
    "print(numbers[::2]) # even indexed elements\n",
    "print(numbers[::-1]) # reverse the list\n",
    "\n"
   ]
  },
  {
   "cell_type": "code",
   "execution_count": 9,
   "metadata": {},
   "outputs": [
    {
     "name": "stdout",
     "output_type": "stream",
     "text": [
      "[7, 6, 5, 4, 3, 2, 1]\n",
      "[7, 6, 5, 4, 3, 2, 1]\n"
     ]
    }
   ],
   "source": [
    "print(numbers[-4:-11:-1])\n",
    "# another one\n",
    "print(numbers[:7][::-1])"
   ]
  },
  {
   "cell_type": "markdown",
   "metadata": {},
   "source": [
    "# Mehods in list - 11\n",
    "\n",
    "- adding elements\n",
    "    - append\n",
    "    - extend\n",
    "    - clear\n",
    "\n",
    "- removing elements\n",
    "    - pop\n",
    "    - remove\n",
    "    - clear\n",
    "\n",
    "- utility method\n",
    "    - index\n",
    "    - count\n",
    "    - sort\n",
    "    - reverse\n",
    "    - copy"
   ]
  },
  {
   "cell_type": "code",
   "execution_count": 10,
   "metadata": {},
   "outputs": [
    {
     "name": "stdout",
     "output_type": "stream",
     "text": [
      "['apple']\n"
     ]
    }
   ],
   "source": [
    "x.append('apple')\n",
    "print(x)"
   ]
  },
  {
   "cell_type": "code",
   "execution_count": 12,
   "metadata": {},
   "outputs": [
    {
     "name": "stdout",
     "output_type": "stream",
     "text": [
      "['apple', 'apple', 'apple']\n"
     ]
    }
   ],
   "source": [
    "x.append('apple')\n",
    "print(x)"
   ]
  },
  {
   "cell_type": "code",
   "execution_count": 13,
   "metadata": {},
   "outputs": [
    {
     "name": "stdout",
     "output_type": "stream",
     "text": [
      "['apple', 'apple', 'apple', 'banana']\n"
     ]
    }
   ],
   "source": [
    "x.append('banana')\n",
    "print(x)"
   ]
  },
  {
   "cell_type": "code",
   "execution_count": 14,
   "metadata": {},
   "outputs": [
    {
     "name": "stdout",
     "output_type": "stream",
     "text": [
      "['apple', 'apple', 'apple', 'banana', 23]\n"
     ]
    }
   ],
   "source": [
    "x.append(23)\n",
    "print(x)"
   ]
  },
  {
   "cell_type": "code",
   "execution_count": 29,
   "metadata": {},
   "outputs": [
    {
     "name": "stdout",
     "output_type": "stream",
     "text": [
      "['Avengers', 'Iron man', 'Hulk', 'Thor', 'Captain America']\n"
     ]
    }
   ],
   "source": [
    "books = []\n",
    "for i in range(5):\n",
    "    books.append(input('Enter a book'))\n",
    "print(books)"
   ]
  },
  {
   "cell_type": "code",
   "execution_count": 30,
   "metadata": {},
   "outputs": [
    {
     "data": {
      "text/plain": [
       "['Avengers', 'Iron man', 'Hulk', 'Thor', 'Captain America']"
      ]
     },
     "execution_count": 30,
     "metadata": {},
     "output_type": "execute_result"
    }
   ],
   "source": [
    "More_books = ['Harry Potter', 'Lord of the rings', 'The Hobbit']\n",
    "books"
   ]
  },
  {
   "cell_type": "code",
   "execution_count": 31,
   "metadata": {},
   "outputs": [
    {
     "data": {
      "text/plain": [
       "['Avengers',\n",
       " 'Iron man',\n",
       " 'Hulk',\n",
       " 'Thor',\n",
       " 'Captain America',\n",
       " 'Harry Potter',\n",
       " 'Lord of the rings',\n",
       " 'The Hobbit']"
      ]
     },
     "execution_count": 31,
     "metadata": {},
     "output_type": "execute_result"
    }
   ],
   "source": [
    "books.extend(More_books)\n",
    "books"
   ]
  },
  {
   "cell_type": "code",
   "execution_count": 33,
   "metadata": {},
   "outputs": [
    {
     "data": {
      "text/plain": [
       "['Avengers',\n",
       " 'Iron man',\n",
       " 'Hulk',\n",
       " 'Thor',\n",
       " 'Captain America',\n",
       " 'Harry Potter',\n",
       " 'Lord of the rings',\n",
       " 'The Hobbit',\n",
       " \"Harry Potter and the sorcerer' s stone\",\n",
       " 'Lord of the rings',\n",
       " 'The Hobbit']"
      ]
     },
     "execution_count": 33,
     "metadata": {},
     "output_type": "execute_result"
    }
   ],
   "source": [
    "books[-3] = (\"Harry Potter and the sorcerer' s stone\") # insert\n",
    "books"
   ]
  },
  {
   "cell_type": "code",
   "execution_count": 34,
   "metadata": {},
   "outputs": [
    {
     "data": {
      "text/plain": [
       "['Avengers',\n",
       " 'Iron man',\n",
       " 'Hulk',\n",
       " 'Thor',\n",
       " 'Captain America',\n",
       " 'Harry Potter',\n",
       " 'Lord of the rings',\n",
       " 'The Hobbit',\n",
       " \"Harry Potter and the sorcerer' s stone\",\n",
       " 'Harry Potter and the chamber of secrets',\n",
       " 'Lord of the rings',\n",
       " 'The Hobbit']"
      ]
     },
     "execution_count": 34,
     "metadata": {},
     "output_type": "execute_result"
    }
   ],
   "source": [
    "books.insert(-2, \"Harry Potter and the chamber of secrets\")\n",
    "books"
   ]
  },
  {
   "cell_type": "code",
   "execution_count": 39,
   "metadata": {},
   "outputs": [],
   "source": [
    "if 'Avengers' in books:\n",
    "    books.remove('Avengers')"
   ]
  },
  {
   "cell_type": "code",
   "execution_count": 40,
   "metadata": {},
   "outputs": [
    {
     "data": {
      "text/plain": [
       "'The Hobbit'"
      ]
     },
     "execution_count": 40,
     "metadata": {},
     "output_type": "execute_result"
    }
   ],
   "source": [
    "books.pop() # remove last element"
   ]
  },
  {
   "cell_type": "code",
   "execution_count": 42,
   "metadata": {},
   "outputs": [
    {
     "data": {
      "text/plain": [
       "'Harry Potter'"
      ]
     },
     "execution_count": 42,
     "metadata": {},
     "output_type": "execute_result"
    }
   ],
   "source": [
    "books.pop(3) # remove element at index 3"
   ]
  },
  {
   "cell_type": "code",
   "execution_count": 1,
   "metadata": {},
   "outputs": [
    {
     "name": "stdout",
     "output_type": "stream",
     "text": [
      "0\n",
      "1\n",
      "6\n"
     ]
    }
   ],
   "source": [
    "x = [123,45,676,34,56,33,45]\n",
    "print(x.index(123))\n",
    "print(x.index(45))\n",
    "print(x.index(45, 2))"
   ]
  },
  {
   "cell_type": "code",
   "execution_count": 2,
   "metadata": {},
   "outputs": [
    {
     "name": "stdout",
     "output_type": "stream",
     "text": [
      "1\n",
      "1\n"
     ]
    }
   ],
   "source": [
    "print(x.count(676))\n",
    "print(x.count(56))"
   ]
  },
  {
   "cell_type": "code",
   "execution_count": 4,
   "metadata": {},
   "outputs": [
    {
     "name": "stdout",
     "output_type": "stream",
     "text": [
      "[45, 33, 56, 34, 676, 45, 123]\n"
     ]
    }
   ],
   "source": [
    "x.reverse()\n",
    "print(x)"
   ]
  },
  {
   "cell_type": "code",
   "execution_count": 5,
   "metadata": {},
   "outputs": [
    {
     "name": "stdout",
     "output_type": "stream",
     "text": [
      "[33, 34, 45, 45, 56, 123, 676]\n",
      "[676, 123, 56, 45, 45, 34, 33]\n"
     ]
    }
   ],
   "source": [
    "# ascending order\n",
    "x.sort()\n",
    "print(x)\n",
    "# descending order\n",
    "x.sort(reverse=True)\n",
    "print(x)"
   ]
  },
  {
   "cell_type": "code",
   "execution_count": 6,
   "metadata": {},
   "outputs": [
    {
     "name": "stdout",
     "output_type": "stream",
     "text": [
      "[1, 2, 3, 4]\n",
      "[1, 2, 3, 4]\n",
      "[1, 2, 4, 5]\n",
      "[1, 2, 3, 4]\n"
     ]
    }
   ],
   "source": [
    "x = [1,2,3,4]\n",
    "x1 = x.copy()\n",
    "print(x1)\n",
    "print(x)\n",
    "x.append(5)\n",
    "x.remove(3)\n",
    "print(x)\n",
    "print(x1)"
   ]
  },
  {
   "cell_type": "code",
   "execution_count": null,
   "metadata": {},
   "outputs": [],
   "source": []
  }
 ],
 "metadata": {
  "kernelspec": {
   "display_name": "base",
   "language": "python",
   "name": "python3"
  },
  "language_info": {
   "codemirror_mode": {
    "name": "ipython",
    "version": 3
   },
   "file_extension": ".py",
   "mimetype": "text/x-python",
   "name": "python",
   "nbconvert_exporter": "python",
   "pygments_lexer": "ipython3",
   "version": "3.11.5"
  }
 },
 "nbformat": 4,
 "nbformat_minor": 2
}
