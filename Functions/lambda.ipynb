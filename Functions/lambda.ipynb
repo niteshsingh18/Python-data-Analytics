{
 "cells": [
  {
   "cell_type": "markdown",
   "metadata": {},
   "source": [
    "# lambda expressions\n",
    "\n",
    "- anonymous function, a function without a name\n",
    "- and they stored a variable, which can be called later like a function "
   ]
  },
  {
   "cell_type": "markdown",
   "metadata": {},
   "source": [
    "a simple function in math look like\n",
    "\n",
    "f(x) = x**2 + x - 1\n",
    "\n",
    "or\n",
    "\n",
    "g(x, y) = x + y\n",
    "\n",
    "f(3)\n",
    "\n",
    "g(3,4)"
   ]
  },
  {
   "cell_type": "code",
   "execution_count": 1,
   "metadata": {},
   "outputs": [
    {
     "data": {
      "text/plain": [
       "10099"
      ]
     },
     "execution_count": 1,
     "metadata": {},
     "output_type": "execute_result"
    }
   ],
   "source": [
    "# lambda example one\n",
    "f = lambda x : x**2 + x - 1\n",
    "f(100)"
   ]
  },
  {
   "cell_type": "code",
   "execution_count": 2,
   "metadata": {},
   "outputs": [
    {
     "data": {
      "text/plain": [
       "5"
      ]
     },
     "execution_count": 2,
     "metadata": {},
     "output_type": "execute_result"
    }
   ],
   "source": [
    "g = lambda x,y: x + y\n",
    "g(2, 3)"
   ]
  },
  {
   "cell_type": "code",
   "execution_count": 3,
   "metadata": {},
   "outputs": [
    {
     "data": {
      "text/plain": [
       "139"
      ]
     },
     "execution_count": 3,
     "metadata": {},
     "output_type": "execute_result"
    }
   ],
   "source": [
    "f(10) + g(10, 20)"
   ]
  },
  {
   "cell_type": "code",
   "execution_count": 4,
   "metadata": {},
   "outputs": [
    {
     "data": {
      "text/plain": [
       "8"
      ]
     },
     "execution_count": 4,
     "metadata": {},
     "output_type": "execute_result"
    }
   ],
   "source": [
    "# (x**2 + y**2) **.5\n",
    "\n",
    "f = lambda x,y: (x**2 + y**2) **.5\n",
    "g(3,5)"
   ]
  },
  {
   "cell_type": "code",
   "execution_count": 5,
   "metadata": {},
   "outputs": [
    {
     "name": "stdout",
     "output_type": "stream",
     "text": [
      "19.849433241279208\n"
     ]
    }
   ],
   "source": [
    "hyp = lambda x,y: (x**2 + y**2)**.5\n",
    "ans = hyp(13,15)\n",
    "print(ans)"
   ]
  },
  {
   "cell_type": "markdown",
   "metadata": {},
   "source": [
    "Map & Filter\n",
    "\n",
    "- map - apply a function to every element in a sequence (iterable)\n",
    "- filter - apply a function to every elemrent in a sequence (iterable), return only the element that evaluate to true"
   ]
  },
  {
   "cell_type": "code",
   "execution_count": 6,
   "metadata": {},
   "outputs": [
    {
     "name": "stdout",
     "output_type": "stream",
     "text": [
      "[2, 4, 6, 8, 9]\n",
      "[4, 16, 36, 64, 81]\n"
     ]
    }
   ],
   "source": [
    "x = [2,4,6,8,9]\n",
    "y = []\n",
    "for i in x:\n",
    "    s = i**2\n",
    "    y.append(s)\n",
    "print(x)\n",
    "print(y)"
   ]
  },
  {
   "cell_type": "code",
   "execution_count": 8,
   "metadata": {},
   "outputs": [
    {
     "name": "stdout",
     "output_type": "stream",
     "text": [
      "[2, 4, 6, 8, 9]\n",
      "[4, 16, 36, 64, 81]\n"
     ]
    }
   ],
   "source": [
    "x = [2,4,6,8,9]\n",
    "x2 = list(map(lambda i:i**2, x))\n",
    "print(x)\n",
    "print(x2)"
   ]
  },
  {
   "cell_type": "code",
   "execution_count": 10,
   "metadata": {},
   "outputs": [
    {
     "name": "stdout",
     "output_type": "stream",
     "text": [
      "[8, 64, 216, 512, 729]\n",
      "[16, 256, 1296, 4096, 6561]\n",
      "[16, 256, 1296, 4096, 6561]\n"
     ]
    }
   ],
   "source": [
    "x3 = list(map(lambda i: i**3, x))\n",
    "x4 = list(map(lambda i: i**4, x))\n",
    "x10 = list(map(lambda i: i-10, x))\n",
    "print(x3)\n",
    "print(x4)\n",
    "print(x4)"
   ]
  },
  {
   "cell_type": "markdown",
   "metadata": {},
   "source": [
    "Map"
   ]
  },
  {
   "cell_type": "code",
   "execution_count": 11,
   "metadata": {},
   "outputs": [
    {
     "name": "stdout",
     "output_type": "stream",
     "text": [
      "[2, 6, 12, 20, 30]\n"
     ]
    }
   ],
   "source": [
    "data = [1,2,3,4,5]\n",
    "x = list(map(lambda i: i+i**2, data))\n",
    "print(x)"
   ]
  },
  {
   "cell_type": "markdown",
   "metadata": {},
   "source": [
    "Filter"
   ]
  },
  {
   "cell_type": "code",
   "execution_count": 12,
   "metadata": {},
   "outputs": [
    {
     "name": "stdout",
     "output_type": "stream",
     "text": [
      "[3, 5, 1, 5, 7, 9]\n",
      "[2, 4, 6, 8, 6]\n",
      "[5, 6, 5, 7, 8, 9, 6]\n"
     ]
    }
   ],
   "source": [
    "x = [2,3,4,5,6,1,5,7,8,9,6]\n",
    "odds = list(filter(lambda i: i%2!=0, x))\n",
    "print(odds)\n",
    "evens = list(filter(lambda i: i%2==0, x))\n",
    "print(evens)\n",
    "xgte5 = list(filter(lambda i: i>=5, x))\n",
    "print(xgte5)"
   ]
  },
  {
   "cell_type": "code",
   "execution_count": null,
   "metadata": {},
   "outputs": [],
   "source": []
  }
 ],
 "metadata": {
  "kernelspec": {
   "display_name": "base",
   "language": "python",
   "name": "python3"
  },
  "language_info": {
   "codemirror_mode": {
    "name": "ipython",
    "version": 3
   },
   "file_extension": ".py",
   "mimetype": "text/x-python",
   "name": "python",
   "nbconvert_exporter": "python",
   "pygments_lexer": "ipython3",
   "version": "3.11.5"
  }
 },
 "nbformat": 4,
 "nbformat_minor": 2
}
