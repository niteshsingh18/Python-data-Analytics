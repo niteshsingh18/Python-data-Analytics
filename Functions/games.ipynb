{
 "cells": [
  {
   "cell_type": "code",
   "execution_count": 1,
   "metadata": {},
   "outputs": [
    {
     "name": "stdout",
     "output_type": "stream",
     "text": [
      "pygame 2.5.2 (SDL 2.28.3, Python 3.11.5)\n",
      "Hello from the pygame community. https://www.pygame.org/contribute.html\n"
     ]
    },
    {
     "ename": "ImportError",
     "evalue": "You are running from an interactive interpreter.\n'import pgzrun' only works when you are running a Python file.",
     "output_type": "error",
     "traceback": [
      "\u001b[1;31m---------------------------------------------------------------------------\u001b[0m",
      "\u001b[1;31mImportError\u001b[0m                               Traceback (most recent call last)",
      "\u001b[1;32mc:\\Users\\Dell\\Documents\\Python data Analytics\\Functions\\games.ipynb Cell 1\u001b[0m line \u001b[0;36m1\n\u001b[1;32m----> <a href='vscode-notebook-cell:/c%3A/Users/Dell/Documents/Python%20data%20Analytics/Functions/games.ipynb#W0sZmlsZQ%3D%3D?line=0'>1</a>\u001b[0m \u001b[39mimport\u001b[39;00m \u001b[39mpgzrun\u001b[39;00m\n\u001b[0;32m      <a href='vscode-notebook-cell:/c%3A/Users/Dell/Documents/Python%20data%20Analytics/Functions/games.ipynb#W0sZmlsZQ%3D%3D?line=2'>3</a>\u001b[0m WIDTH \u001b[39m=\u001b[39m \u001b[39m500\u001b[39m\n\u001b[0;32m      <a href='vscode-notebook-cell:/c%3A/Users/Dell/Documents/Python%20data%20Analytics/Functions/games.ipynb#W0sZmlsZQ%3D%3D?line=3'>4</a>\u001b[0m HEIGHT \u001b[39m=\u001b[39m \u001b[39m500\u001b[39m\n",
      "File \u001b[1;32mc:\\Users\\Dell\\miniconda3\\Lib\\site-packages\\pgzrun.py:19\u001b[0m\n\u001b[0;32m     17\u001b[0m \u001b[39mif\u001b[39;00m \u001b[39mnot\u001b[39;00m \u001b[39mgetattr\u001b[39m(sys, \u001b[39m'\u001b[39m\u001b[39m_pgzrun\u001b[39m\u001b[39m'\u001b[39m, \u001b[39mNone\u001b[39;00m):\n\u001b[0;32m     18\u001b[0m     \u001b[39mif\u001b[39;00m \u001b[39mnot\u001b[39;00m \u001b[39mgetattr\u001b[39m(mod, \u001b[39m'\u001b[39m\u001b[39m__file__\u001b[39m\u001b[39m'\u001b[39m, \u001b[39mNone\u001b[39;00m):\n\u001b[1;32m---> 19\u001b[0m         \u001b[39mraise\u001b[39;00m \u001b[39mImportError\u001b[39;00m(\n\u001b[0;32m     20\u001b[0m             \u001b[39m\"\u001b[39m\u001b[39mYou are running from an interactive interpreter.\u001b[39m\u001b[39m\\n\u001b[39;00m\u001b[39m\"\u001b[39m\n\u001b[0;32m     21\u001b[0m             \u001b[39m\"\u001b[39m\u001b[39m'\u001b[39m\u001b[39mimport pgzrun\u001b[39m\u001b[39m'\u001b[39m\u001b[39m only works when you are running a Python file.\u001b[39m\u001b[39m\"\u001b[39m\n\u001b[0;32m     22\u001b[0m         )\n\u001b[0;32m     23\u001b[0m     prepare_mod(mod)\n\u001b[0;32m     26\u001b[0m \u001b[39mdef\u001b[39;00m \u001b[39mgo\u001b[39m():\n",
      "\u001b[1;31mImportError\u001b[0m: You are running from an interactive interpreter.\n'import pgzrun' only works when you are running a Python file."
     ]
    }
   ],
   "source": [
    "import pgzrun\n",
    "\n",
    "WIDTH = 500\n",
    "HEIGHT = 500\n",
    "\n",
    "alien = Actor(\"alien\")\n",
    "alien.pos = (400, 50)\n",
    "box = Rect((20, 20), (100, 100))\n",
    "\n",
    "def draw():\n",
    "    screen.clear()\n",
    "    screen.draw.filled_rect(box, \"red\")\n",
    "    alien.draw()\n",
    "\n",
    "def update():\n",
    "    if keyboard.right:\n",
    "        alien.x = alien.x + 2\n",
    "    elif keyboard.left:\n",
    "        alien.x = alien.x - 2\n",
    "    if box.x < alien.x:\n",
    "        box.x = box.x + 1\n",
    "    if box.x > alien.x:\n",
    "        box.x = box.x - 1\n",
    "    if alien.colliderect(box):\n",
    "        exit()\n",
    "\n",
    "pgzrun.go()"
   ]
  },
  {
   "cell_type": "code",
   "execution_count": null,
   "metadata": {},
   "outputs": [],
   "source": []
  }
 ],
 "metadata": {
  "kernelspec": {
   "display_name": "base",
   "language": "python",
   "name": "python3"
  },
  "language_info": {
   "codemirror_mode": {
    "name": "ipython",
    "version": 3
   },
   "file_extension": ".py",
   "mimetype": "text/x-python",
   "name": "python",
   "nbconvert_exporter": "python",
   "pygments_lexer": "ipython3",
   "version": "3.11.5"
  }
 },
 "nbformat": 4,
 "nbformat_minor": 2
}
